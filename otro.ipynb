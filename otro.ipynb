{
 "cells": [
  {
   "cell_type": "markdown",
   "metadata": {},
   "source": [
    "# Taller 1 - Info de Sistema financiero"
   ]
  },
  {
   "cell_type": "code",
   "execution_count": 1,
   "metadata": {
    "collapsed": true
   },
   "outputs": [],
   "source": [
    "#Las graficas se muestren en el mismo notebook \n",
    "%matplotlib inline\n",
    "\n",
    "# Importar la librería NumPy\n",
    "import numpy as np\n",
    "# Importar la librería Pandas desde Python.\n",
    "import pandas as pd\n",
    "#Stats\n",
    "from scipy.stats import stats\n",
    "\n",
    "import matplotlib.pyplot as plt\n",
    "from copy import deepcopy\n",
    "\n",
    "from scipy.stats import ttest_ind, ttest_ind_from_stats\n",
    "from scipy.special import stdtr\n",
    "\n",
    "#Tipo de imagenes\n",
    "plt.rcParams['figure.figsize'] = (16, 9)\n",
    "plt.style.use('ggplot')\n"
   ]
  },
  {
   "cell_type": "code",
   "execution_count": 2,
   "metadata": {
    "collapsed": true
   },
   "outputs": [],
   "source": [
    "# Importar datos en formato xls.\n",
    "data_financiera = pd.read_csv('./Data/TEST_X003.csv')"
   ]
  },
  {
   "cell_type": "code",
   "execution_count": 4,
   "metadata": {},
   "outputs": [
    {
     "data": {
      "text/html": [
       "<div>\n",
       "<style>\n",
       "    .dataframe thead tr:only-child th {\n",
       "        text-align: right;\n",
       "    }\n",
       "\n",
       "    .dataframe thead th {\n",
       "        text-align: left;\n",
       "    }\n",
       "\n",
       "    .dataframe tbody tr th {\n",
       "        vertical-align: top;\n",
       "    }\n",
       "</style>\n",
       "<table border=\"1\" class=\"dataframe\">\n",
       "  <thead>\n",
       "    <tr style=\"text-align: right;\">\n",
       "      <th></th>\n",
       "      <th>IDENTIFICADOR</th>\n",
       "      <th>INGRESO_BRUTO_FINAL</th>\n",
       "      <th>EDAD</th>\n",
       "      <th>TIPO_CLIENTE</th>\n",
       "      <th>LINEA_TC_SF_M1</th>\n",
       "      <th>SALDO_TC_SF_M1</th>\n",
       "      <th>SALDO_PP_SF_M1</th>\n",
       "      <th>SALDO_VEH_SF_M1</th>\n",
       "      <th>SALDO_HIP_SF_M1</th>\n",
       "      <th>SALDO_CONV_SF_M1</th>\n",
       "    </tr>\n",
       "  </thead>\n",
       "  <tbody>\n",
       "    <tr>\n",
       "      <th>0</th>\n",
       "      <td>11689996</td>\n",
       "      <td>1383.0</td>\n",
       "      <td>35</td>\n",
       "      <td>INDEPENDIENTE</td>\n",
       "      <td>NaN</td>\n",
       "      <td>NaN</td>\n",
       "      <td>NaN</td>\n",
       "      <td>NaN</td>\n",
       "      <td>NaN</td>\n",
       "      <td>NaN</td>\n",
       "    </tr>\n",
       "    <tr>\n",
       "      <th>1</th>\n",
       "      <td>12073740</td>\n",
       "      <td>1702.0</td>\n",
       "      <td>56</td>\n",
       "      <td>DEPENDIENTE</td>\n",
       "      <td>1177.85</td>\n",
       "      <td>738.72</td>\n",
       "      <td>5270.87</td>\n",
       "      <td>0.0</td>\n",
       "      <td>0.00</td>\n",
       "      <td>0.0</td>\n",
       "    </tr>\n",
       "    <tr>\n",
       "      <th>2</th>\n",
       "      <td>8823281</td>\n",
       "      <td>1194.0</td>\n",
       "      <td>41</td>\n",
       "      <td>INDEPENDIENTE</td>\n",
       "      <td>0.00</td>\n",
       "      <td>0.00</td>\n",
       "      <td>0.00</td>\n",
       "      <td>0.0</td>\n",
       "      <td>0.00</td>\n",
       "      <td>0.0</td>\n",
       "    </tr>\n",
       "    <tr>\n",
       "      <th>3</th>\n",
       "      <td>8500942</td>\n",
       "      <td>2157.0</td>\n",
       "      <td>56</td>\n",
       "      <td>DEPENDIENTE</td>\n",
       "      <td>13400.00</td>\n",
       "      <td>2164.80</td>\n",
       "      <td>0.00</td>\n",
       "      <td>0.0</td>\n",
       "      <td>5512.52</td>\n",
       "      <td>0.0</td>\n",
       "    </tr>\n",
       "    <tr>\n",
       "      <th>4</th>\n",
       "      <td>12756072</td>\n",
       "      <td>1626.0</td>\n",
       "      <td>28</td>\n",
       "      <td>INDEPENDIENTE</td>\n",
       "      <td>2800.00</td>\n",
       "      <td>1744.73</td>\n",
       "      <td>0.00</td>\n",
       "      <td>0.0</td>\n",
       "      <td>0.00</td>\n",
       "      <td>0.0</td>\n",
       "    </tr>\n",
       "  </tbody>\n",
       "</table>\n",
       "</div>"
      ],
      "text/plain": [
       "   IDENTIFICADOR  INGRESO_BRUTO_FINAL  EDAD   TIPO_CLIENTE  LINEA_TC_SF_M1  \\\n",
       "0       11689996               1383.0    35  INDEPENDIENTE             NaN   \n",
       "1       12073740               1702.0    56    DEPENDIENTE         1177.85   \n",
       "2        8823281               1194.0    41  INDEPENDIENTE            0.00   \n",
       "3        8500942               2157.0    56    DEPENDIENTE        13400.00   \n",
       "4       12756072               1626.0    28  INDEPENDIENTE         2800.00   \n",
       "\n",
       "   SALDO_TC_SF_M1  SALDO_PP_SF_M1  SALDO_VEH_SF_M1  SALDO_HIP_SF_M1  \\\n",
       "0             NaN             NaN              NaN              NaN   \n",
       "1          738.72         5270.87              0.0             0.00   \n",
       "2            0.00            0.00              0.0             0.00   \n",
       "3         2164.80            0.00              0.0          5512.52   \n",
       "4         1744.73            0.00              0.0             0.00   \n",
       "\n",
       "   SALDO_CONV_SF_M1  \n",
       "0               NaN  \n",
       "1               0.0  \n",
       "2               0.0  \n",
       "3               0.0  \n",
       "4               0.0  "
      ]
     },
     "execution_count": 4,
     "metadata": {},
     "output_type": "execute_result"
    }
   ],
   "source": [
    "data_financiera.head()"
   ]
  },
  {
   "cell_type": "code",
   "execution_count": 7,
   "metadata": {},
   "outputs": [
    {
     "data": {
      "text/html": [
       "<div>\n",
       "<table border=\"1\" class=\"dataframe\">\n",
       "  <thead>\n",
       "    <tr style=\"text-align: right;\">\n",
       "      <th></th>\n",
       "      <th>IDENTIFICADOR</th>\n",
       "      <th>INGRESO_BRUTO_FINAL</th>\n",
       "      <th>EDAD</th>\n",
       "      <th>LINEA_TC_SF_M1</th>\n",
       "      <th>SALDO_TC_SF_M1</th>\n",
       "      <th>SALDO_PP_SF_M1</th>\n",
       "      <th>SALDO_VEH_SF_M1</th>\n",
       "      <th>SALDO_HIP_SF_M1</th>\n",
       "      <th>SALDO_CONV_SF_M1</th>\n",
       "    </tr>\n",
       "  </thead>\n",
       "  <tbody>\n",
       "    <tr>\n",
       "      <th>count</th>\n",
       "      <td>1.000000e+04</td>\n",
       "      <td>10000.000000</td>\n",
       "      <td>10000.00000</td>\n",
       "      <td>8690.000000</td>\n",
       "      <td>8690.000000</td>\n",
       "      <td>8690.000000</td>\n",
       "      <td>8690.000000</td>\n",
       "      <td>8.690000e+03</td>\n",
       "      <td>8690.000000</td>\n",
       "    </tr>\n",
       "    <tr>\n",
       "      <th>mean</th>\n",
       "      <td>1.151724e+07</td>\n",
       "      <td>2385.633285</td>\n",
       "      <td>41.18730</td>\n",
       "      <td>13516.844390</td>\n",
       "      <td>3966.027094</td>\n",
       "      <td>2613.659409</td>\n",
       "      <td>535.053659</td>\n",
       "      <td>7.777989e+03</td>\n",
       "      <td>2455.045290</td>\n",
       "    </tr>\n",
       "    <tr>\n",
       "      <th>std</th>\n",
       "      <td>2.438010e+06</td>\n",
       "      <td>3618.207912</td>\n",
       "      <td>14.39137</td>\n",
       "      <td>33869.488489</td>\n",
       "      <td>13520.376876</td>\n",
       "      <td>13931.186008</td>\n",
       "      <td>5842.939381</td>\n",
       "      <td>5.929781e+04</td>\n",
       "      <td>9944.825259</td>\n",
       "    </tr>\n",
       "    <tr>\n",
       "      <th>min</th>\n",
       "      <td>3.757400e+04</td>\n",
       "      <td>0.000000</td>\n",
       "      <td>0.00000</td>\n",
       "      <td>0.000000</td>\n",
       "      <td>0.000000</td>\n",
       "      <td>0.000000</td>\n",
       "      <td>0.000000</td>\n",
       "      <td>0.000000e+00</td>\n",
       "      <td>0.000000</td>\n",
       "    </tr>\n",
       "    <tr>\n",
       "      <th>25%</th>\n",
       "      <td>9.904324e+06</td>\n",
       "      <td>741.000000</td>\n",
       "      <td>30.00000</td>\n",
       "      <td>0.000000</td>\n",
       "      <td>0.000000</td>\n",
       "      <td>0.000000</td>\n",
       "      <td>0.000000</td>\n",
       "      <td>0.000000e+00</td>\n",
       "      <td>0.000000</td>\n",
       "    </tr>\n",
       "    <tr>\n",
       "      <th>50%</th>\n",
       "      <td>1.199306e+07</td>\n",
       "      <td>1460.770000</td>\n",
       "      <td>39.00000</td>\n",
       "      <td>505.200000</td>\n",
       "      <td>0.000000</td>\n",
       "      <td>0.000000</td>\n",
       "      <td>0.000000</td>\n",
       "      <td>0.000000e+00</td>\n",
       "      <td>0.000000</td>\n",
       "    </tr>\n",
       "    <tr>\n",
       "      <th>75%</th>\n",
       "      <td>1.351367e+07</td>\n",
       "      <td>2667.214286</td>\n",
       "      <td>51.00000</td>\n",
       "      <td>10912.745000</td>\n",
       "      <td>1639.062500</td>\n",
       "      <td>0.000000</td>\n",
       "      <td>0.000000</td>\n",
       "      <td>0.000000e+00</td>\n",
       "      <td>0.000000</td>\n",
       "    </tr>\n",
       "    <tr>\n",
       "      <th>max</th>\n",
       "      <td>1.453706e+07</td>\n",
       "      <td>88394.000000</td>\n",
       "      <td>115.00000</td>\n",
       "      <td>544618.230000</td>\n",
       "      <td>275315.360000</td>\n",
       "      <td>413682.650000</td>\n",
       "      <td>298578.200000</td>\n",
       "      <td>1.803554e+06</td>\n",
       "      <td>134649.830000</td>\n",
       "    </tr>\n",
       "  </tbody>\n",
       "</table>\n",
       "</div>"
      ],
      "text/plain": [
       "       IDENTIFICADOR  INGRESO_BRUTO_FINAL         EDAD  LINEA_TC_SF_M1  \\\n",
       "count   1.000000e+04         10000.000000  10000.00000     8690.000000   \n",
       "mean    1.151724e+07          2385.633285     41.18730    13516.844390   \n",
       "std     2.438010e+06          3618.207912     14.39137    33869.488489   \n",
       "min     3.757400e+04             0.000000      0.00000        0.000000   \n",
       "25%     9.904324e+06           741.000000     30.00000        0.000000   \n",
       "50%     1.199306e+07          1460.770000     39.00000      505.200000   \n",
       "75%     1.351367e+07          2667.214286     51.00000    10912.745000   \n",
       "max     1.453706e+07         88394.000000    115.00000   544618.230000   \n",
       "\n",
       "       SALDO_TC_SF_M1  SALDO_PP_SF_M1  SALDO_VEH_SF_M1  SALDO_HIP_SF_M1  \\\n",
       "count     8690.000000     8690.000000      8690.000000     8.690000e+03   \n",
       "mean      3966.027094     2613.659409       535.053659     7.777989e+03   \n",
       "std      13520.376876    13931.186008      5842.939381     5.929781e+04   \n",
       "min          0.000000        0.000000         0.000000     0.000000e+00   \n",
       "25%          0.000000        0.000000         0.000000     0.000000e+00   \n",
       "50%          0.000000        0.000000         0.000000     0.000000e+00   \n",
       "75%       1639.062500        0.000000         0.000000     0.000000e+00   \n",
       "max     275315.360000   413682.650000    298578.200000     1.803554e+06   \n",
       "\n",
       "       SALDO_CONV_SF_M1  \n",
       "count       8690.000000  \n",
       "mean        2455.045290  \n",
       "std         9944.825259  \n",
       "min            0.000000  \n",
       "25%            0.000000  \n",
       "50%            0.000000  \n",
       "75%            0.000000  \n",
       "max       134649.830000  "
      ]
     },
     "execution_count": 7,
     "metadata": {},
     "output_type": "execute_result"
    }
   ],
   "source": [
    "data_financiera.describe()"
   ]
  },
  {
   "cell_type": "code",
   "execution_count": 5,
   "metadata": {},
   "outputs": [
    {
     "name": "stdout",
     "output_type": "stream",
     "text": [
      "IDENTIFICADOR 0\n",
      "INGRESO_BRUTO_FINAL 0\n",
      "EDAD 0\n",
      "TIPO_CLIENTE 0\n",
      "LINEA_TC_SF_M1 1310\n",
      "SALDO_TC_SF_M1 1310\n",
      "SALDO_PP_SF_M1 1310\n",
      "SALDO_VEH_SF_M1 1310\n",
      "SALDO_HIP_SF_M1 1310\n",
      "SALDO_CONV_SF_M1 1310\n"
     ]
    }
   ],
   "source": [
    "#Validar cuantos nulos tenemos por cada variable\n",
    "for var in data_financiera:\n",
    "    print(var,sum(data_financiera[var].isnull()))"
   ]
  },
  {
   "cell_type": "code",
   "execution_count": 7,
   "metadata": {},
   "outputs": [
    {
     "data": {
      "text/plain": [
       "8690"
      ]
     },
     "execution_count": 7,
     "metadata": {},
     "output_type": "execute_result"
    }
   ],
   "source": [
    "#Cantidad de registros quitando nulls\n",
    "data_financiera['LINEA_TC_SF_M1'].count()"
   ]
  },
  {
   "cell_type": "code",
   "execution_count": 8,
   "metadata": {
    "collapsed": true
   },
   "outputs": [],
   "source": [
    "#Nos quedamos con los registros sin nulos\n",
    "data_financiera1 = data_financiera[data_financiera['LINEA_TC_SF_M1'].isnull()==False]"
   ]
  },
  {
   "cell_type": "code",
   "execution_count": 9,
   "metadata": {},
   "outputs": [
    {
     "name": "stdout",
     "output_type": "stream",
     "text": [
      "IDENTIFICADOR 0\n",
      "INGRESO_BRUTO_FINAL 0\n",
      "EDAD 0\n",
      "TIPO_CLIENTE 0\n",
      "LINEA_TC_SF_M1 0\n",
      "SALDO_TC_SF_M1 0\n",
      "SALDO_PP_SF_M1 0\n",
      "SALDO_VEH_SF_M1 0\n",
      "SALDO_HIP_SF_M1 0\n",
      "SALDO_CONV_SF_M1 0\n"
     ]
    }
   ],
   "source": [
    "#Validamos que no existan mas nulos \n",
    "for var in data_financiera1:\n",
    "    print(var,sum(data_financiera1[var].isnull()))"
   ]
  },
  {
   "cell_type": "code",
   "execution_count": 10,
   "metadata": {},
   "outputs": [
    {
     "data": {
      "text/html": [
       "<div>\n",
       "<style>\n",
       "    .dataframe thead tr:only-child th {\n",
       "        text-align: right;\n",
       "    }\n",
       "\n",
       "    .dataframe thead th {\n",
       "        text-align: left;\n",
       "    }\n",
       "\n",
       "    .dataframe tbody tr th {\n",
       "        vertical-align: top;\n",
       "    }\n",
       "</style>\n",
       "<table border=\"1\" class=\"dataframe\">\n",
       "  <thead>\n",
       "    <tr style=\"text-align: right;\">\n",
       "      <th></th>\n",
       "      <th>IDENTIFICADOR</th>\n",
       "      <th>INGRESO_BRUTO_FINAL</th>\n",
       "      <th>EDAD</th>\n",
       "      <th>LINEA_TC_SF_M1</th>\n",
       "      <th>SALDO_TC_SF_M1</th>\n",
       "      <th>SALDO_PP_SF_M1</th>\n",
       "      <th>SALDO_VEH_SF_M1</th>\n",
       "      <th>SALDO_HIP_SF_M1</th>\n",
       "      <th>SALDO_CONV_SF_M1</th>\n",
       "    </tr>\n",
       "  </thead>\n",
       "  <tbody>\n",
       "    <tr>\n",
       "      <th>count</th>\n",
       "      <td>8.690000e+03</td>\n",
       "      <td>8690.000000</td>\n",
       "      <td>8690.000000</td>\n",
       "      <td>8690.000000</td>\n",
       "      <td>8690.000000</td>\n",
       "      <td>8690.000000</td>\n",
       "      <td>8690.000000</td>\n",
       "      <td>8.690000e+03</td>\n",
       "      <td>8690.000000</td>\n",
       "    </tr>\n",
       "    <tr>\n",
       "      <th>mean</th>\n",
       "      <td>1.133217e+07</td>\n",
       "      <td>2598.421271</td>\n",
       "      <td>42.027963</td>\n",
       "      <td>13516.844390</td>\n",
       "      <td>3966.027094</td>\n",
       "      <td>2613.659409</td>\n",
       "      <td>535.053659</td>\n",
       "      <td>7.777989e+03</td>\n",
       "      <td>2455.045290</td>\n",
       "    </tr>\n",
       "    <tr>\n",
       "      <th>std</th>\n",
       "      <td>2.444240e+06</td>\n",
       "      <td>3765.880321</td>\n",
       "      <td>13.404823</td>\n",
       "      <td>33869.488489</td>\n",
       "      <td>13520.376876</td>\n",
       "      <td>13931.186008</td>\n",
       "      <td>5842.939381</td>\n",
       "      <td>5.929781e+04</td>\n",
       "      <td>9944.825259</td>\n",
       "    </tr>\n",
       "    <tr>\n",
       "      <th>min</th>\n",
       "      <td>3.757400e+04</td>\n",
       "      <td>0.000000</td>\n",
       "      <td>7.000000</td>\n",
       "      <td>0.000000</td>\n",
       "      <td>0.000000</td>\n",
       "      <td>0.000000</td>\n",
       "      <td>0.000000</td>\n",
       "      <td>0.000000e+00</td>\n",
       "      <td>0.000000</td>\n",
       "    </tr>\n",
       "    <tr>\n",
       "      <th>25%</th>\n",
       "      <td>9.741461e+06</td>\n",
       "      <td>787.250000</td>\n",
       "      <td>31.000000</td>\n",
       "      <td>0.000000</td>\n",
       "      <td>0.000000</td>\n",
       "      <td>0.000000</td>\n",
       "      <td>0.000000</td>\n",
       "      <td>0.000000e+00</td>\n",
       "      <td>0.000000</td>\n",
       "    </tr>\n",
       "    <tr>\n",
       "      <th>50%</th>\n",
       "      <td>1.164291e+07</td>\n",
       "      <td>1553.000000</td>\n",
       "      <td>40.000000</td>\n",
       "      <td>505.200000</td>\n",
       "      <td>0.000000</td>\n",
       "      <td>0.000000</td>\n",
       "      <td>0.000000</td>\n",
       "      <td>0.000000e+00</td>\n",
       "      <td>0.000000</td>\n",
       "    </tr>\n",
       "    <tr>\n",
       "      <th>75%</th>\n",
       "      <td>1.334594e+07</td>\n",
       "      <td>2821.000000</td>\n",
       "      <td>51.000000</td>\n",
       "      <td>10912.745000</td>\n",
       "      <td>1639.062500</td>\n",
       "      <td>0.000000</td>\n",
       "      <td>0.000000</td>\n",
       "      <td>0.000000e+00</td>\n",
       "      <td>0.000000</td>\n",
       "    </tr>\n",
       "    <tr>\n",
       "      <th>max</th>\n",
       "      <td>1.453706e+07</td>\n",
       "      <td>88394.000000</td>\n",
       "      <td>99.000000</td>\n",
       "      <td>544618.230000</td>\n",
       "      <td>275315.360000</td>\n",
       "      <td>413682.650000</td>\n",
       "      <td>298578.200000</td>\n",
       "      <td>1.803554e+06</td>\n",
       "      <td>134649.830000</td>\n",
       "    </tr>\n",
       "  </tbody>\n",
       "</table>\n",
       "</div>"
      ],
      "text/plain": [
       "       IDENTIFICADOR  INGRESO_BRUTO_FINAL         EDAD  LINEA_TC_SF_M1  \\\n",
       "count   8.690000e+03          8690.000000  8690.000000     8690.000000   \n",
       "mean    1.133217e+07          2598.421271    42.027963    13516.844390   \n",
       "std     2.444240e+06          3765.880321    13.404823    33869.488489   \n",
       "min     3.757400e+04             0.000000     7.000000        0.000000   \n",
       "25%     9.741461e+06           787.250000    31.000000        0.000000   \n",
       "50%     1.164291e+07          1553.000000    40.000000      505.200000   \n",
       "75%     1.334594e+07          2821.000000    51.000000    10912.745000   \n",
       "max     1.453706e+07         88394.000000    99.000000   544618.230000   \n",
       "\n",
       "       SALDO_TC_SF_M1  SALDO_PP_SF_M1  SALDO_VEH_SF_M1  SALDO_HIP_SF_M1  \\\n",
       "count     8690.000000     8690.000000      8690.000000     8.690000e+03   \n",
       "mean      3966.027094     2613.659409       535.053659     7.777989e+03   \n",
       "std      13520.376876    13931.186008      5842.939381     5.929781e+04   \n",
       "min          0.000000        0.000000         0.000000     0.000000e+00   \n",
       "25%          0.000000        0.000000         0.000000     0.000000e+00   \n",
       "50%          0.000000        0.000000         0.000000     0.000000e+00   \n",
       "75%       1639.062500        0.000000         0.000000     0.000000e+00   \n",
       "max     275315.360000   413682.650000    298578.200000     1.803554e+06   \n",
       "\n",
       "       SALDO_CONV_SF_M1  \n",
       "count       8690.000000  \n",
       "mean        2455.045290  \n",
       "std         9944.825259  \n",
       "min            0.000000  \n",
       "25%            0.000000  \n",
       "50%            0.000000  \n",
       "75%            0.000000  \n",
       "max       134649.830000  "
      ]
     },
     "execution_count": 10,
     "metadata": {},
     "output_type": "execute_result"
    }
   ],
   "source": [
    "data_financiera1.describe()"
   ]
  },
  {
   "cell_type": "code",
   "execution_count": 11,
   "metadata": {},
   "outputs": [
    {
     "data": {
      "text/html": [
       "<div>\n",
       "<style>\n",
       "    .dataframe thead tr:only-child th {\n",
       "        text-align: right;\n",
       "    }\n",
       "\n",
       "    .dataframe thead th {\n",
       "        text-align: left;\n",
       "    }\n",
       "\n",
       "    .dataframe tbody tr th {\n",
       "        vertical-align: top;\n",
       "    }\n",
       "</style>\n",
       "<table border=\"1\" class=\"dataframe\">\n",
       "  <thead>\n",
       "    <tr style=\"text-align: right;\">\n",
       "      <th></th>\n",
       "      <th>IDENTIFICADOR</th>\n",
       "      <th>INGRESO_BRUTO_FINAL</th>\n",
       "      <th>EDAD</th>\n",
       "      <th>TIPO_CLIENTE</th>\n",
       "      <th>LINEA_TC_SF_M1</th>\n",
       "      <th>SALDO_TC_SF_M1</th>\n",
       "      <th>SALDO_PP_SF_M1</th>\n",
       "      <th>SALDO_VEH_SF_M1</th>\n",
       "      <th>SALDO_HIP_SF_M1</th>\n",
       "      <th>SALDO_CONV_SF_M1</th>\n",
       "    </tr>\n",
       "  </thead>\n",
       "  <tbody>\n",
       "    <tr>\n",
       "      <th>1</th>\n",
       "      <td>12073740</td>\n",
       "      <td>1702.0</td>\n",
       "      <td>56</td>\n",
       "      <td>DEPENDIENTE</td>\n",
       "      <td>1177.85</td>\n",
       "      <td>738.72</td>\n",
       "      <td>5270.87</td>\n",
       "      <td>0.0</td>\n",
       "      <td>0.00</td>\n",
       "      <td>0.0</td>\n",
       "    </tr>\n",
       "    <tr>\n",
       "      <th>2</th>\n",
       "      <td>8823281</td>\n",
       "      <td>1194.0</td>\n",
       "      <td>41</td>\n",
       "      <td>INDEPENDIENTE</td>\n",
       "      <td>0.00</td>\n",
       "      <td>0.00</td>\n",
       "      <td>0.00</td>\n",
       "      <td>0.0</td>\n",
       "      <td>0.00</td>\n",
       "      <td>0.0</td>\n",
       "    </tr>\n",
       "    <tr>\n",
       "      <th>3</th>\n",
       "      <td>8500942</td>\n",
       "      <td>2157.0</td>\n",
       "      <td>56</td>\n",
       "      <td>DEPENDIENTE</td>\n",
       "      <td>13400.00</td>\n",
       "      <td>2164.80</td>\n",
       "      <td>0.00</td>\n",
       "      <td>0.0</td>\n",
       "      <td>5512.52</td>\n",
       "      <td>0.0</td>\n",
       "    </tr>\n",
       "    <tr>\n",
       "      <th>4</th>\n",
       "      <td>12756072</td>\n",
       "      <td>1626.0</td>\n",
       "      <td>28</td>\n",
       "      <td>INDEPENDIENTE</td>\n",
       "      <td>2800.00</td>\n",
       "      <td>1744.73</td>\n",
       "      <td>0.00</td>\n",
       "      <td>0.0</td>\n",
       "      <td>0.00</td>\n",
       "      <td>0.0</td>\n",
       "    </tr>\n",
       "    <tr>\n",
       "      <th>5</th>\n",
       "      <td>14196367</td>\n",
       "      <td>1516.0</td>\n",
       "      <td>48</td>\n",
       "      <td>INDEPENDIENTE</td>\n",
       "      <td>0.00</td>\n",
       "      <td>0.00</td>\n",
       "      <td>0.00</td>\n",
       "      <td>0.0</td>\n",
       "      <td>0.00</td>\n",
       "      <td>0.0</td>\n",
       "    </tr>\n",
       "  </tbody>\n",
       "</table>\n",
       "</div>"
      ],
      "text/plain": [
       "   IDENTIFICADOR  INGRESO_BRUTO_FINAL  EDAD   TIPO_CLIENTE  LINEA_TC_SF_M1  \\\n",
       "1       12073740               1702.0    56    DEPENDIENTE         1177.85   \n",
       "2        8823281               1194.0    41  INDEPENDIENTE            0.00   \n",
       "3        8500942               2157.0    56    DEPENDIENTE        13400.00   \n",
       "4       12756072               1626.0    28  INDEPENDIENTE         2800.00   \n",
       "5       14196367               1516.0    48  INDEPENDIENTE            0.00   \n",
       "\n",
       "   SALDO_TC_SF_M1  SALDO_PP_SF_M1  SALDO_VEH_SF_M1  SALDO_HIP_SF_M1  \\\n",
       "1          738.72         5270.87              0.0             0.00   \n",
       "2            0.00            0.00              0.0             0.00   \n",
       "3         2164.80            0.00              0.0          5512.52   \n",
       "4         1744.73            0.00              0.0             0.00   \n",
       "5            0.00            0.00              0.0             0.00   \n",
       "\n",
       "   SALDO_CONV_SF_M1  \n",
       "1               0.0  \n",
       "2               0.0  \n",
       "3               0.0  \n",
       "4               0.0  \n",
       "5               0.0  "
      ]
     },
     "execution_count": 11,
     "metadata": {},
     "output_type": "execute_result"
    }
   ],
   "source": [
    "data_financiera1.head()"
   ]
  },
  {
   "cell_type": "markdown",
   "metadata": {},
   "source": [
    "# Correlacion entre deuda e ingresos"
   ]
  },
  {
   "cell_type": "code",
   "execution_count": 12,
   "metadata": {},
   "outputs": [
    {
     "name": "stderr",
     "output_type": "stream",
     "text": [
      "/Users/Jaime/anaconda3/lib/python3.6/site-packages/ipykernel_launcher.py:2: SettingWithCopyWarning: \n",
      "A value is trying to be set on a copy of a slice from a DataFrame.\n",
      "Try using .loc[row_indexer,col_indexer] = value instead\n",
      "\n",
      "See the caveats in the documentation: http://pandas.pydata.org/pandas-docs/stable/indexing.html#indexing-view-versus-copy\n",
      "  \n"
     ]
    }
   ],
   "source": [
    "#Calculamos deuda total de todos los productos\n",
    "data_financiera1['Deudas'] =data_financiera1['SALDO_TC_SF_M1']+data_financiera1['SALDO_PP_SF_M1']+data_financiera1['SALDO_VEH_SF_M1']+data_financiera1['SALDO_HIP_SF_M1']+data_financiera1['SALDO_CONV_SF_M1']\n"
   ]
  },
  {
   "cell_type": "code",
   "execution_count": 13,
   "metadata": {},
   "outputs": [
    {
     "data": {
      "text/plain": [
       "<matplotlib.collections.PathCollection at 0x1a17318400>"
      ]
     },
     "execution_count": 13,
     "metadata": {},
     "output_type": "execute_result"
    },
    {
     "data": {
      "image/png": "[encoded data removed]",
      "text/plain": [
       "<matplotlib.figure.Figure at 0x1a16d59a58>"
      ]
     },
     "metadata": {},
     "output_type": "display_data"
    }
   ],
   "source": [
    "#validamos si graficamente se ve alguna correlacion \n",
    "x1 = data_financiera1['Deudas'].values\n",
    "x2 = data_financiera1['INGRESO_BRUTO_FINAL'].values\n",
    "\n",
    "#crea pares de valores por indice.\n",
    "#Para el zip requisito que ambas listas tengan mismos tamaños\n",
    "X = np.array(list(zip(x1,x2)))\n",
    "\n",
    "#S es tamaño del punto\n",
    "plt.scatter(x1, x2, c='black', s=20)"
   ]
  },
  {
   "cell_type": "code",
   "execution_count": 16,
   "metadata": {},
   "outputs": [
    {
     "data": {
      "text/plain": [
       "SpearmanrResult(correlation=0.51767541923387683, pvalue=0.0)"
      ]
     },
     "execution_count": 16,
     "metadata": {},
     "output_type": "execute_result"
    }
   ],
   "source": [
    "#Validamos con Spearman el grado de correlacion. (Se usa Spearman para no tener que validar normalidad en cada variable)\n",
    "stats.spearmanr(x1, x2)"
   ]
  },
  {
   "cell_type": "markdown",
   "metadata": {},
   "source": [
    "##Conclusion 1: Si existe correlacion entre la Deuda total y el ingreso Bruto. Estan medianamente correlacionado (0.51)"
   ]
  },
  {
   "cell_type": "markdown",
   "metadata": {},
   "source": [
    "# Correlacion entre cada tipo de deuda vs ingresos\n"
   ]
  },
  {
   "cell_type": "markdown",
   "metadata": {},
   "source": [
    "# Tarjeta de credito"
   ]
  },
  {
   "cell_type": "code",
   "execution_count": 21,
   "metadata": {},
   "outputs": [
    {
     "data": {
      "text/plain": [
       "<matplotlib.collections.PathCollection at 0x1a174500f0>"
      ]
     },
     "execution_count": 21,
     "metadata": {},
     "output_type": "execute_result"
    },
    {
     "data": {
      "image/png": "[encoded data removed]",
      "text/plain": [
       "<matplotlib.figure.Figure at 0x1a1fa52b38>"
      ]
     },
     "metadata": {},
     "output_type": "display_data"
    }
   ],
   "source": [
    "#Una de las solicitudes de la lectura es que como premisa general se compare el grado de relacion que existe en \n",
    "#cada producto desagregado con el ingreso.\n",
    "\n",
    "#Hacemos los mismo que con deuda total, validamos graficamente y con Spearman.\n",
    "tc1 = data_financiera1['INGRESO_BRUTO_FINAL'].values\n",
    "tc2 = data_financiera1['SALDO_TC_SF_M1'].values\n",
    "X = np.array(list(zip(x1,x2)))\n",
    "plt.scatter(tc1, tc2, c='black', s=20)\n"
   ]
  },
  {
   "cell_type": "code",
   "execution_count": 22,
   "metadata": {},
   "outputs": [
    {
     "data": {
      "text/plain": [
       "SpearmanrResult(correlation=0.48197404950801775, pvalue=0.0)"
      ]
     },
     "execution_count": 22,
     "metadata": {},
     "output_type": "execute_result"
    }
   ],
   "source": [
    "stats.spearmanr(tc1, tc2)"
   ]
  },
  {
   "cell_type": "markdown",
   "metadata": {},
   "source": [
    "# Prestamo personal"
   ]
  },
  {
   "cell_type": "code",
   "execution_count": 23,
   "metadata": {},
   "outputs": [
    {
     "data": {
      "text/plain": [
       "<matplotlib.collections.PathCollection at 0x1a1ffb2a90>"
      ]
     },
     "execution_count": 23,
     "metadata": {},
     "output_type": "execute_result"
    },
    {
     "data": {
      "image/png": "[encoded data removed]",
      "text/plain": [
       "<matplotlib.figure.Figure at 0x1a1745d5f8>"
      ]
     },
     "metadata": {},
     "output_type": "display_data"
    }
   ],
   "source": [
    "pp1 = data_financiera1['INGRESO_BRUTO_FINAL'].values\n",
    "pp2 = data_financiera1['SALDO_PP_SF_M1'].values\n",
    "X = np.array(list(zip(x1,x2)))\n",
    "plt.scatter(pp1, pp2, c='black', s=20)"
   ]
  },
  {
   "cell_type": "code",
   "execution_count": 24,
   "metadata": {},
   "outputs": [
    {
     "data": {
      "text/plain": [
       "SpearmanrResult(correlation=0.23904867655504985, pvalue=3.49384990335936e-113)"
      ]
     },
     "execution_count": 24,
     "metadata": {},
     "output_type": "execute_result"
    }
   ],
   "source": [
    "stats.spearmanr(pp1, pp2)"
   ]
  },
  {
   "cell_type": "markdown",
   "metadata": {},
   "source": [
    "# Vehicular"
   ]
  },
  {
   "cell_type": "code",
   "execution_count": 25,
   "metadata": {},
   "outputs": [
    {
     "data": {
      "text/plain": [
       "<matplotlib.collections.PathCollection at 0x1a204ff780>"
      ]
     },
     "execution_count": 25,
     "metadata": {},
     "output_type": "execute_result"
    },
    {
     "data": {
      "image/png": "[encoded data removed]",
      "text/plain": [
       "<matplotlib.figure.Figure at 0x1a1ff7db38>"
      ]
     },
     "metadata": {},
     "output_type": "display_data"
    }
   ],
   "source": [
    "ve1 = data_financiera1['INGRESO_BRUTO_FINAL'].values\n",
    "ve2 = data_financiera1['SALDO_VEH_SF_M1'].values\n",
    "X = np.array(list(zip(x1,x2)))\n",
    "plt.scatter(ve1, ve2, c='black', s=20)"
   ]
  },
  {
   "cell_type": "code",
   "execution_count": 26,
   "metadata": {},
   "outputs": [
    {
     "data": {
      "text/plain": [
       "SpearmanrResult(correlation=0.13802921449156647, pvalue=3.1622833302772646e-38)"
      ]
     },
     "execution_count": 26,
     "metadata": {},
     "output_type": "execute_result"
    }
   ],
   "source": [
    "stats.spearmanr(ve1, ve2)"
   ]
  },
  {
   "cell_type": "markdown",
   "metadata": {},
   "source": [
    "# Hipotecario"
   ]
  },
  {
   "cell_type": "code",
   "execution_count": 27,
   "metadata": {},
   "outputs": [
    {
     "data": {
      "text/plain": [
       "<matplotlib.collections.PathCollection at 0x1a20783080>"
      ]
     },
     "execution_count": 27,
     "metadata": {},
     "output_type": "execute_result"
    },
    {
     "data": {
      "image/png": "[encoded data removed]",
      "text/plain": [
       "<matplotlib.figure.Figure at 0x1a1fcecbe0>"
      ]
     },
     "metadata": {},
     "output_type": "display_data"
    }
   ],
   "source": [
    "hi1 = data_financiera1['INGRESO_BRUTO_FINAL'].values\n",
    "hi2 = data_financiera1['SALDO_HIP_SF_M1'].values\n",
    "X = np.array(list(zip(x1,x2)))\n",
    "plt.scatter(hi1, hi2, c='black', s=20)"
   ]
  },
  {
   "cell_type": "code",
   "execution_count": 28,
   "metadata": {},
   "outputs": [
    {
     "data": {
      "text/plain": [
       "SpearmanrResult(correlation=0.22813069419634061, pvalue=5.520775424097317e-103)"
      ]
     },
     "execution_count": 28,
     "metadata": {},
     "output_type": "execute_result"
    }
   ],
   "source": [
    "stats.spearmanr(hi1, hi2)"
   ]
  },
  {
   "cell_type": "markdown",
   "metadata": {},
   "source": [
    "# Por convenio"
   ]
  },
  {
   "cell_type": "code",
   "execution_count": 38,
   "metadata": {},
   "outputs": [
    {
     "data": {
      "text/plain": [
       "<matplotlib.collections.PathCollection at 0x1a209f1240>"
      ]
     },
     "execution_count": 38,
     "metadata": {},
     "output_type": "execute_result"
    },
    {
     "data": {
      "image/png": "[encoded data removed]",
      "text/plain": [
       "<matplotlib.figure.Figure at 0x1a207a1d30>"
      ]
     },
     "metadata": {},
     "output_type": "display_data"
    }
   ],
   "source": [
    "co1 = data_financiera1['INGRESO_BRUTO_FINAL'].values\n",
    "co2 = data_financiera1['SALDO_CONV_SF_M1'].values\n",
    "X = np.array(list(zip(x1,x2)))\n",
    "plt.scatter(co1, co2, c='black', s=20)"
   ]
  },
  {
   "cell_type": "code",
   "execution_count": 39,
   "metadata": {},
   "outputs": [
    {
     "data": {
      "text/plain": [
       "SpearmanrResult(correlation=0.10378664962112449, pvalue=3.0202834327276632e-22)"
      ]
     },
     "execution_count": 39,
     "metadata": {},
     "output_type": "execute_result"
    }
   ],
   "source": [
    "stats.spearmanr(co1, co2)"
   ]
  },
  {
   "cell_type": "code",
   "execution_count": 40,
   "metadata": {},
   "outputs": [
    {
     "name": "stdout",
     "output_type": "stream",
     "text": [
      "Resultados: \n",
      " Tarjeta credito: SpearmanrResult(correlation=0.48197404950801775, pvalue=0.0) \n",
      " Prestamo personal: SpearmanrResult(correlation=0.23904867655504985, pvalue=3.49384990335936e-113) \n",
      " Prestamo vehicular: SpearmanrResult(correlation=0.13802921449156647, pvalue=3.1622833302772646e-38) \n",
      " Prestamo hipotecario: SpearmanrResult(correlation=0.22813069419634061, pvalue=5.520775424097317e-103) \n",
      " Prestamo convenio: SpearmanrResult(correlation=0.10378664962112449, pvalue=3.0202834327276632e-22)\n"
     ]
    }
   ],
   "source": [
    "#Resumiendo:\n",
    "\n",
    "#Por los graficos se podria afirmar apriori que si existe correlacion entre cada producto y el ingreso.\n",
    "\n",
    "#Por los estadisticos:\n",
    "print (\n",
    "'Resultados:','\\n',\n",
    "'Tarjeta credito:', stats.spearmanr(tc1, tc2),'\\n',\n",
    "'Prestamo personal:', stats.spearmanr(pp1, pp2),'\\n',\n",
    "'Prestamo vehicular:',stats.spearmanr(ve1, ve2),'\\n',\n",
    "'Prestamo hipotecario:',stats.spearmanr(hi1, hi2),'\\n',\n",
    "'Prestamo convenio:',stats.spearmanr(co1, co2))\n"
   ]
  },
  {
   "cell_type": "code",
   "execution_count": 42,
   "metadata": {
    "collapsed": true
   },
   "outputs": [],
   "source": [
    "#Conclusion 2:\n",
    "#En la mayoria el p_valor es muy pequeño, por tanto si existe correlacion en el saldo de cada producto con los ingresos\n",
    "#sin embargo el grado de correlacion varia en cada uno, siendo el mas grande TC con 0.48 \n",
    "#y el mas pequeño prestamos por convenio con 0.1"
   ]
  },
  {
   "cell_type": "markdown",
   "metadata": {},
   "source": [
    "# Validaciones con condicion laboral"
   ]
  },
  {
   "cell_type": "code",
   "execution_count": 43,
   "metadata": {},
   "outputs": [
    {
     "data": {
      "text/plain": [
       "INDEPENDIENTE    4784\n",
       "DEPENDIENTE      3906\n",
       "Name: TIPO_CLIENTE, dtype: int64"
      ]
     },
     "execution_count": 43,
     "metadata": {},
     "output_type": "execute_result"
    }
   ],
   "source": [
    "#Distribucion por condicion laboral:\n",
    "data_financiera1['TIPO_CLIENTE'].value_counts()"
   ]
  },
  {
   "cell_type": "code",
   "execution_count": 44,
   "metadata": {},
   "outputs": [
    {
     "data": {
      "text/plain": [
       "12056.925821488307"
      ]
     },
     "execution_count": 44,
     "metadata": {},
     "output_type": "execute_result"
    }
   ],
   "source": [
    "#Para validar si la condicion laboral incluye en la linea de credito, vemo como es la media en cada tipo de segmento:\n",
    "data_financiera1[data_financiera1['TIPO_CLIENTE']=='INDEPENDIENTE']['LINEA_TC_SF_M1'].mean()"
   ]
  },
  {
   "cell_type": "code",
   "execution_count": 45,
   "metadata": {},
   "outputs": [
    {
     "data": {
      "text/plain": [
       "15304.926938044036"
      ]
     },
     "execution_count": 45,
     "metadata": {},
     "output_type": "execute_result"
    }
   ],
   "source": [
    "data_financiera1[data_financiera1['TIPO_CLIENTE']=='DEPENDIENTE']['LINEA_TC_SF_M1'].mean()"
   ]
  },
  {
   "cell_type": "code",
   "execution_count": 46,
   "metadata": {},
   "outputs": [
    {
     "name": "stdout",
     "output_type": "stream",
     "text": [
      "ttest_ind:            t = -4.42859  p = 9.60886e-06\n"
     ]
    }
   ],
   "source": [
    "#Segun la media los dependientes tienen mas LINEA DE TC que los independiente.\n",
    "#Para corroborar nuestra hipotesis usamos T TEST, que nos indican si las medias son iguales o no:\n",
    "\n",
    "tc1 = data_financiera1[data_financiera1['TIPO_CLIENTE']=='INDEPENDIENTE']['LINEA_TC_SF_M1']\n",
    "tc2 = data_financiera1[data_financiera1['TIPO_CLIENTE']=='DEPENDIENTE']['LINEA_TC_SF_M1']\n",
    "\n",
    "# Use scipy.stats.ttest_ind.\n",
    "t, p = ttest_ind(tc1, tc2, equal_var=False)\n",
    "print(\"ttest_ind:            t = %g  p = %g\" % (t, p))"
   ]
  },
  {
   "cell_type": "code",
   "execution_count": 47,
   "metadata": {
    "collapsed": true
   },
   "outputs": [],
   "source": [
    "###Dado que el p_valor es pequeño, es correcto afirmar que las medias de Linea de credito son distintas \n",
    "#entre los dependientes e independientes\n",
    "\n",
    "#Conclusion 3: Si existe relacion entre la condicion laboral y el la linea de TC."
   ]
  },
  {
   "cell_type": "code",
   "execution_count": 50,
   "metadata": {},
   "outputs": [
    {
     "data": {
      "text/plain": [
       "11602.433563963223"
      ]
     },
     "execution_count": 50,
     "metadata": {},
     "output_type": "execute_result"
    }
   ],
   "source": [
    "#Hacemos mismo ejercicio con deudas y Edad:\n",
    "\n",
    "data_financiera1[data_financiera1['TIPO_CLIENTE']=='INDEPENDIENTE']['Deudas'].mean()"
   ]
  },
  {
   "cell_type": "code",
   "execution_count": 51,
   "metadata": {},
   "outputs": [
    {
     "data": {
      "text/plain": [
       "24384.5664900154"
      ]
     },
     "execution_count": 51,
     "metadata": {},
     "output_type": "execute_result"
    }
   ],
   "source": [
    "data_financiera1[data_financiera1['TIPO_CLIENTE']=='DEPENDIENTE']['Deudas'].mean()"
   ]
  },
  {
   "cell_type": "code",
   "execution_count": 52,
   "metadata": {},
   "outputs": [
    {
     "name": "stdout",
     "output_type": "stream",
     "text": [
      "ttest_ind:            t = -7.9744  p = 1.80598e-15\n"
     ]
    }
   ],
   "source": [
    "#Comparamos las medias para comprobar con T TEST\n",
    "\n",
    "d1 = data_financiera1[data_financiera1['TIPO_CLIENTE']=='INDEPENDIENTE']['Deudas']\n",
    "d2 = data_financiera1[data_financiera1['TIPO_CLIENTE']=='DEPENDIENTE']['Deudas']\n",
    "\n",
    "# Use scipy.stats.ttest_ind.\n",
    "t, p = ttest_ind(d1, d2, equal_var=False)\n",
    "print(\"ttest_ind:            t = %g  p = %g\" % (t, p))"
   ]
  },
  {
   "cell_type": "code",
   "execution_count": 53,
   "metadata": {
    "collapsed": true
   },
   "outputs": [],
   "source": [
    "#Conclusion 4: si influye la condicion laboral en la deuda, los dependientes tienen mas deuda."
   ]
  },
  {
   "cell_type": "code",
   "execution_count": 54,
   "metadata": {},
   "outputs": [
    {
     "data": {
      "text/plain": [
       "41.93896321070234"
      ]
     },
     "execution_count": 54,
     "metadata": {},
     "output_type": "execute_result"
    }
   ],
   "source": [
    "#Edad:\n",
    "data_financiera1[data_financiera1['TIPO_CLIENTE']=='INDEPENDIENTE']['EDAD'].mean()"
   ]
  },
  {
   "cell_type": "code",
   "execution_count": 55,
   "metadata": {},
   "outputs": [
    {
     "data": {
      "text/plain": [
       "42.136968766001026"
      ]
     },
     "execution_count": 55,
     "metadata": {},
     "output_type": "execute_result"
    }
   ],
   "source": [
    "data_financiera1[data_financiera1['TIPO_CLIENTE']=='DEPENDIENTE']['EDAD'].mean()"
   ]
  },
  {
   "cell_type": "code",
   "execution_count": 56,
   "metadata": {},
   "outputs": [
    {
     "name": "stdout",
     "output_type": "stream",
     "text": [
      "ttest_ind:            t = -0.685696  p = 0.492924\n"
     ]
    }
   ],
   "source": [
    "#Comparamos las medias para comprobar con T TEST\n",
    "\n",
    "e1 = data_financiera1[data_financiera1['TIPO_CLIENTE']=='INDEPENDIENTE']['EDAD']\n",
    "e2 = data_financiera1[data_financiera1['TIPO_CLIENTE']=='DEPENDIENTE']['EDAD']\n",
    "\n",
    "# Use scipy.stats.ttest_ind.\n",
    "t, p = ttest_ind(e1, e2, equal_var=False)\n",
    "print(\"ttest_ind:            t = %g  p = %g\" % (t, p))"
   ]
  },
  {
   "cell_type": "code",
   "execution_count": 57,
   "metadata": {
    "collapsed": true
   },
   "outputs": [],
   "source": [
    "#eL P_VALOR es muy alto, no podemos rechazar que las medias de edades son iguales, es decir las medias de edad son iguales. \n",
    "\n",
    "\n",
    "#Conclusion 5: La edad no esta relacionada a la condicion laboral, el promedio en ambos casos aprox es 41 años."
   ]
  },
  {
   "cell_type": "markdown",
   "metadata": {},
   "source": [
    "# Peruanos atipicos"
   ]
  },
  {
   "cell_type": "code",
   "execution_count": 59,
   "metadata": {
    "collapsed": true
   },
   "outputs": [],
   "source": [
    "#cargamos la funcion que identifica outliers por Z_SCORE\n",
    "def outliers_modified_z_score(ys):\n",
    "    threshold = 3.5\n",
    "\n",
    "    median_y = np.median(ys)\n",
    "    median_absolute_deviation_y = np.median([np.abs(y - median_y) for y in ys])\n",
    "    modified_z_scores = [0.6745 * (y - median_y) / median_absolute_deviation_y\n",
    "                         for y in ys]\n",
    "    return np.where(np.abs(modified_z_scores) > threshold)"
   ]
  },
  {
   "cell_type": "code",
   "execution_count": 60,
   "metadata": {
    "collapsed": true
   },
   "outputs": [],
   "source": [
    "#INGRESOS:\n",
    "Resultado = outliers_modified_z_score(data_financiera1['INGRESO_BRUTO_FINAL'])"
   ]
  },
  {
   "cell_type": "code",
   "execution_count": 76,
   "metadata": {},
   "outputs": [
    {
     "data": {
      "text/plain": [
       "(896, 11)"
      ]
     },
     "execution_count": 76,
     "metadata": {},
     "output_type": "execute_result"
    }
   ],
   "source": [
    "#Cantidad de atipicos segun Z_SCORE\n",
    "data_financiera1.iloc[Resultado[0]].shape"
   ]
  },
  {
   "cell_type": "code",
   "execution_count": 78,
   "metadata": {},
   "outputs": [
    {
     "data": {
      "text/html": [
       "<div>\n",
       "<style>\n",
       "    .dataframe thead tr:only-child th {\n",
       "        text-align: right;\n",
       "    }\n",
       "\n",
       "    .dataframe thead th {\n",
       "        text-align: left;\n",
       "    }\n",
       "\n",
       "    .dataframe tbody tr th {\n",
       "        vertical-align: top;\n",
       "    }\n",
       "</style>\n",
       "<table border=\"1\" class=\"dataframe\">\n",
       "  <thead>\n",
       "    <tr style=\"text-align: right;\">\n",
       "      <th></th>\n",
       "      <th>IDENTIFICADOR</th>\n",
       "      <th>INGRESO_BRUTO_FINAL</th>\n",
       "      <th>EDAD</th>\n",
       "      <th>TIPO_CLIENTE</th>\n",
       "      <th>LINEA_TC_SF_M1</th>\n",
       "      <th>SALDO_TC_SF_M1</th>\n",
       "      <th>SALDO_PP_SF_M1</th>\n",
       "      <th>SALDO_VEH_SF_M1</th>\n",
       "      <th>SALDO_HIP_SF_M1</th>\n",
       "      <th>SALDO_CONV_SF_M1</th>\n",
       "      <th>Deudas</th>\n",
       "    </tr>\n",
       "  </thead>\n",
       "  <tbody>\n",
       "    <tr>\n",
       "      <th>9</th>\n",
       "      <td>9171307</td>\n",
       "      <td>8689.0</td>\n",
       "      <td>54</td>\n",
       "      <td>INDEPENDIENTE</td>\n",
       "      <td>0.00</td>\n",
       "      <td>0.00</td>\n",
       "      <td>0.00</td>\n",
       "      <td>0.0</td>\n",
       "      <td>0.00</td>\n",
       "      <td>3765.81</td>\n",
       "      <td>3765.81</td>\n",
       "    </tr>\n",
       "    <tr>\n",
       "      <th>20</th>\n",
       "      <td>8954232</td>\n",
       "      <td>8906.0</td>\n",
       "      <td>53</td>\n",
       "      <td>INDEPENDIENTE</td>\n",
       "      <td>159952.80</td>\n",
       "      <td>87704.74</td>\n",
       "      <td>0.00</td>\n",
       "      <td>0.0</td>\n",
       "      <td>505673.84</td>\n",
       "      <td>0.00</td>\n",
       "      <td>593378.58</td>\n",
       "    </tr>\n",
       "    <tr>\n",
       "      <th>40</th>\n",
       "      <td>9233120</td>\n",
       "      <td>6000.0</td>\n",
       "      <td>57</td>\n",
       "      <td>INDEPENDIENTE</td>\n",
       "      <td>128751.00</td>\n",
       "      <td>38814.06</td>\n",
       "      <td>2482.19</td>\n",
       "      <td>0.0</td>\n",
       "      <td>0.00</td>\n",
       "      <td>0.00</td>\n",
       "      <td>41296.25</td>\n",
       "    </tr>\n",
       "    <tr>\n",
       "      <th>42</th>\n",
       "      <td>12534833</td>\n",
       "      <td>7088.0</td>\n",
       "      <td>33</td>\n",
       "      <td>INDEPENDIENTE</td>\n",
       "      <td>1145.47</td>\n",
       "      <td>0.00</td>\n",
       "      <td>0.00</td>\n",
       "      <td>0.0</td>\n",
       "      <td>0.00</td>\n",
       "      <td>0.00</td>\n",
       "      <td>0.00</td>\n",
       "    </tr>\n",
       "    <tr>\n",
       "      <th>67</th>\n",
       "      <td>9536060</td>\n",
       "      <td>7831.0</td>\n",
       "      <td>36</td>\n",
       "      <td>DEPENDIENTE</td>\n",
       "      <td>34466.16</td>\n",
       "      <td>12946.38</td>\n",
       "      <td>0.00</td>\n",
       "      <td>59565.0</td>\n",
       "      <td>0.00</td>\n",
       "      <td>0.00</td>\n",
       "      <td>72511.38</td>\n",
       "    </tr>\n",
       "  </tbody>\n",
       "</table>\n",
       "</div>"
      ],
      "text/plain": [
       "    IDENTIFICADOR  INGRESO_BRUTO_FINAL  EDAD   TIPO_CLIENTE  LINEA_TC_SF_M1  \\\n",
       "9         9171307               8689.0    54  INDEPENDIENTE            0.00   \n",
       "20        8954232               8906.0    53  INDEPENDIENTE       159952.80   \n",
       "40        9233120               6000.0    57  INDEPENDIENTE       128751.00   \n",
       "42       12534833               7088.0    33  INDEPENDIENTE         1145.47   \n",
       "67        9536060               7831.0    36    DEPENDIENTE        34466.16   \n",
       "\n",
       "    SALDO_TC_SF_M1  SALDO_PP_SF_M1  SALDO_VEH_SF_M1  SALDO_HIP_SF_M1  \\\n",
       "9             0.00            0.00              0.0             0.00   \n",
       "20        87704.74            0.00              0.0        505673.84   \n",
       "40        38814.06         2482.19              0.0             0.00   \n",
       "42            0.00            0.00              0.0             0.00   \n",
       "67        12946.38            0.00          59565.0             0.00   \n",
       "\n",
       "    SALDO_CONV_SF_M1     Deudas  \n",
       "9            3765.81    3765.81  \n",
       "20              0.00  593378.58  \n",
       "40              0.00   41296.25  \n",
       "42              0.00       0.00  \n",
       "67              0.00   72511.38  "
      ]
     },
     "execution_count": 78,
     "metadata": {},
     "output_type": "execute_result"
    }
   ],
   "source": [
    "#Visualizando atipicos:\n",
    "data_financiera1.iloc[Resultado[0]].head()"
   ]
  },
  {
   "cell_type": "code",
   "execution_count": 79,
   "metadata": {
    "collapsed": true
   },
   "outputs": [],
   "source": [
    "#cargamos la funcion que identifica outliers por rango Intercuartilico\n",
    "def outliers_iqr(ys):\n",
    "    quartile_1, quartile_3 = np.percentile(ys, [25, 75])\n",
    "    iqr = quartile_3 - quartile_1\n",
    "    lower_bound = quartile_1 - (iqr * 1.5)\n",
    "    upper_bound = quartile_3 + (iqr * 1.5)\n",
    "    return np.where((ys > upper_bound) | (ys < lower_bound))"
   ]
  },
  {
   "cell_type": "code",
   "execution_count": 81,
   "metadata": {
    "collapsed": true
   },
   "outputs": [],
   "source": [
    "Resultado = outliers_iqr(data_financiera1['INGRESO_BRUTO_FINAL'])"
   ]
  },
  {
   "cell_type": "code",
   "execution_count": 82,
   "metadata": {},
   "outputs": [
    {
     "data": {
      "text/plain": [
       "(896, 11)"
      ]
     },
     "execution_count": 82,
     "metadata": {},
     "output_type": "execute_result"
    }
   ],
   "source": [
    "data_financiera1.iloc[Resultado].shape"
   ]
  },
  {
   "cell_type": "code",
   "execution_count": 83,
   "metadata": {},
   "outputs": [
    {
     "data": {
      "text/html": [
       "<div>\n",
       "<style>\n",
       "    .dataframe thead tr:only-child th {\n",
       "        text-align: right;\n",
       "    }\n",
       "\n",
       "    .dataframe thead th {\n",
       "        text-align: left;\n",
       "    }\n",
       "\n",
       "    .dataframe tbody tr th {\n",
       "        vertical-align: top;\n",
       "    }\n",
       "</style>\n",
       "<table border=\"1\" class=\"dataframe\">\n",
       "  <thead>\n",
       "    <tr style=\"text-align: right;\">\n",
       "      <th></th>\n",
       "      <th>IDENTIFICADOR</th>\n",
       "      <th>INGRESO_BRUTO_FINAL</th>\n",
       "      <th>EDAD</th>\n",
       "      <th>TIPO_CLIENTE</th>\n",
       "      <th>LINEA_TC_SF_M1</th>\n",
       "      <th>SALDO_TC_SF_M1</th>\n",
       "      <th>SALDO_PP_SF_M1</th>\n",
       "      <th>SALDO_VEH_SF_M1</th>\n",
       "      <th>SALDO_HIP_SF_M1</th>\n",
       "      <th>SALDO_CONV_SF_M1</th>\n",
       "      <th>Deudas</th>\n",
       "    </tr>\n",
       "  </thead>\n",
       "  <tbody>\n",
       "    <tr>\n",
       "      <th>9</th>\n",
       "      <td>9171307</td>\n",
       "      <td>8689.0</td>\n",
       "      <td>54</td>\n",
       "      <td>INDEPENDIENTE</td>\n",
       "      <td>0.00</td>\n",
       "      <td>0.00</td>\n",
       "      <td>0.00</td>\n",
       "      <td>0.0</td>\n",
       "      <td>0.00</td>\n",
       "      <td>3765.81</td>\n",
       "      <td>3765.81</td>\n",
       "    </tr>\n",
       "    <tr>\n",
       "      <th>20</th>\n",
       "      <td>8954232</td>\n",
       "      <td>8906.0</td>\n",
       "      <td>53</td>\n",
       "      <td>INDEPENDIENTE</td>\n",
       "      <td>159952.80</td>\n",
       "      <td>87704.74</td>\n",
       "      <td>0.00</td>\n",
       "      <td>0.0</td>\n",
       "      <td>505673.84</td>\n",
       "      <td>0.00</td>\n",
       "      <td>593378.58</td>\n",
       "    </tr>\n",
       "    <tr>\n",
       "      <th>40</th>\n",
       "      <td>9233120</td>\n",
       "      <td>6000.0</td>\n",
       "      <td>57</td>\n",
       "      <td>INDEPENDIENTE</td>\n",
       "      <td>128751.00</td>\n",
       "      <td>38814.06</td>\n",
       "      <td>2482.19</td>\n",
       "      <td>0.0</td>\n",
       "      <td>0.00</td>\n",
       "      <td>0.00</td>\n",
       "      <td>41296.25</td>\n",
       "    </tr>\n",
       "    <tr>\n",
       "      <th>42</th>\n",
       "      <td>12534833</td>\n",
       "      <td>7088.0</td>\n",
       "      <td>33</td>\n",
       "      <td>INDEPENDIENTE</td>\n",
       "      <td>1145.47</td>\n",
       "      <td>0.00</td>\n",
       "      <td>0.00</td>\n",
       "      <td>0.0</td>\n",
       "      <td>0.00</td>\n",
       "      <td>0.00</td>\n",
       "      <td>0.00</td>\n",
       "    </tr>\n",
       "    <tr>\n",
       "      <th>67</th>\n",
       "      <td>9536060</td>\n",
       "      <td>7831.0</td>\n",
       "      <td>36</td>\n",
       "      <td>DEPENDIENTE</td>\n",
       "      <td>34466.16</td>\n",
       "      <td>12946.38</td>\n",
       "      <td>0.00</td>\n",
       "      <td>59565.0</td>\n",
       "      <td>0.00</td>\n",
       "      <td>0.00</td>\n",
       "      <td>72511.38</td>\n",
       "    </tr>\n",
       "  </tbody>\n",
       "</table>\n",
       "</div>"
      ],
      "text/plain": [
       "    IDENTIFICADOR  INGRESO_BRUTO_FINAL  EDAD   TIPO_CLIENTE  LINEA_TC_SF_M1  \\\n",
       "9         9171307               8689.0    54  INDEPENDIENTE            0.00   \n",
       "20        8954232               8906.0    53  INDEPENDIENTE       159952.80   \n",
       "40        9233120               6000.0    57  INDEPENDIENTE       128751.00   \n",
       "42       12534833               7088.0    33  INDEPENDIENTE         1145.47   \n",
       "67        9536060               7831.0    36    DEPENDIENTE        34466.16   \n",
       "\n",
       "    SALDO_TC_SF_M1  SALDO_PP_SF_M1  SALDO_VEH_SF_M1  SALDO_HIP_SF_M1  \\\n",
       "9             0.00            0.00              0.0             0.00   \n",
       "20        87704.74            0.00              0.0        505673.84   \n",
       "40        38814.06         2482.19              0.0             0.00   \n",
       "42            0.00            0.00              0.0             0.00   \n",
       "67        12946.38            0.00          59565.0             0.00   \n",
       "\n",
       "    SALDO_CONV_SF_M1     Deudas  \n",
       "9            3765.81    3765.81  \n",
       "20              0.00  593378.58  \n",
       "40              0.00   41296.25  \n",
       "42              0.00       0.00  \n",
       "67              0.00   72511.38  "
      ]
     },
     "execution_count": 83,
     "metadata": {},
     "output_type": "execute_result"
    }
   ],
   "source": [
    "data_financiera1.iloc[Resultado].head()"
   ]
  },
  {
   "cell_type": "code",
   "execution_count": 85,
   "metadata": {
    "collapsed": true
   },
   "outputs": [],
   "source": [
    "#Conclusion 6: Segun ambas funciones se identifican 896 atipicos por ingreso bruto"
   ]
  },
  {
   "cell_type": "code",
   "execution_count": null,
   "metadata": {
    "collapsed": true
   },
   "outputs": [],
   "source": []
  }
 ],
 "metadata": {
  "kernelspec": {
   "display_name": "Python 3",
   "language": "python",
   "name": "python3"
  },
  "language_info": {
   "codemirror_mode": {
    "name": "ipython",
    "version": 3
   },
   "file_extension": ".py",
   "mimetype": "text/x-python",
   "name": "python",
   "nbconvert_exporter": "python",
   "pygments_lexer": "ipython3",
   "version": "3.6.3"
  }
 },
 "nbformat": 4,
 "nbformat_minor": 2
}
