{
 "cells": [
  {
   "cell_type": "code",
   "execution_count": 1,
   "metadata": {},
   "outputs": [
    {
     "name": "stderr",
     "output_type": "stream",
     "text": [
      "C:\\Users\\DMC-L001\\Anaconda3\\lib\\site-packages\\gensim\\utils.py:1167: UserWarning: detected Windows; aliasing chunkize to chunkize_serial\n",
      "  warnings.warn(\"detected Windows; aliasing chunkize to chunkize_serial\")\n"
     ]
    }
   ],
   "source": [
    "import pandas as pd\n",
    "import numpy as np"
   ]
  },
  {
   "cell_type": "code",
   "execution_count": 3,
   "metadata": {},
   "outputs": [
    {
     "data": {
      "text/plain": [
       "['80s']"
      ]
     },
     "execution_count": 3,
     "metadata": {},
     "output_type": "execute_result"
    }
   ],
   "source": [
    "xl = pd.ExcelFile(\"80s.xlsx\")\n",
    "xl.sheet_names"
   ]
  },
  {
   "cell_type": "code",
   "execution_count": 5,
   "metadata": {},
   "outputs": [
    {
     "data": {
      "text/html": [
       "<div>\n",
       "<style>\n",
       "    .dataframe thead tr:only-child th {\n",
       "        text-align: right;\n",
       "    }\n",
       "\n",
       "    .dataframe thead th {\n",
       "        text-align: left;\n",
       "    }\n",
       "\n",
       "    .dataframe tbody tr th {\n",
       "        vertical-align: top;\n",
       "    }\n",
       "</style>\n",
       "<table border=\"1\" class=\"dataframe\">\n",
       "  <thead>\n",
       "    <tr style=\"text-align: right;\">\n",
       "      <th></th>\n",
       "      <th>EVALUACION</th>\n",
       "      <th>Comentariomin</th>\n",
       "    </tr>\n",
       "  </thead>\n",
       "  <tbody>\n",
       "    <tr>\n",
       "      <th>0</th>\n",
       "      <td>5</td>\n",
       "      <td>totalmente satisfecho x q resolvieron mi  cons...</td>\n",
       "    </tr>\n",
       "    <tr>\n",
       "      <th>1</th>\n",
       "      <td>5</td>\n",
       "      <td>la atencion fue rapida y clara</td>\n",
       "    </tr>\n",
       "    <tr>\n",
       "      <th>2</th>\n",
       "      <td>4</td>\n",
       "      <td>me atendieron bien</td>\n",
       "    </tr>\n",
       "    <tr>\n",
       "      <th>3</th>\n",
       "      <td>5</td>\n",
       "      <td>fue muy rapido la atencion</td>\n",
       "    </tr>\n",
       "    <tr>\n",
       "      <th>4</th>\n",
       "      <td>5</td>\n",
       "      <td>por que me atendieron muy amablemente con buen...</td>\n",
       "    </tr>\n",
       "  </tbody>\n",
       "</table>\n",
       "</div>"
      ],
      "text/plain": [
       "   EVALUACION                                      Comentariomin\n",
       "0           5  totalmente satisfecho x q resolvieron mi  cons...\n",
       "1           5                     la atencion fue rapida y clara\n",
       "2           4                                 me atendieron bien\n",
       "3           5                         fue muy rapido la atencion\n",
       "4           5  por que me atendieron muy amablemente con buen..."
      ]
     },
     "execution_count": 5,
     "metadata": {},
     "output_type": "execute_result"
    }
   ],
   "source": [
    "df = xl.parse(\"80s\")\n",
    "df.head()"
   ]
  },
  {
   "cell_type": "code",
   "execution_count": 7,
   "metadata": {},
   "outputs": [
    {
     "data": {
      "text/plain": [
       "(13290, 2)"
      ]
     },
     "execution_count": 7,
     "metadata": {},
     "output_type": "execute_result"
    }
   ],
   "source": [
    "df.shape"
   ]
  },
  {
   "cell_type": "code",
   "execution_count": 9,
   "metadata": {
    "collapsed": true
   },
   "outputs": [
    {
     "data": {
      "text/plain": [
       "0        b'totalmente satisfecho x q resolvieron mi  co...\n",
       "1                        b'la atencion fue rapida y clara'\n",
       "2                                    b'me atendieron bien'\n",
       "3                            b'fue muy rapido la atencion'\n",
       "4        b'por que me atendieron muy amablemente con bu...\n",
       "5                 b'me atendieron bien con mucha atencion'\n",
       "6        b'la atencion de las se\\xc3\\xb1oritas de la en...\n",
       "7        b'porque hay varios cajerosas es una agencia r...\n",
       "8                                        b'buena atencion'\n",
       "9         b'la atencion fue rapida y no toma mucho tiempo'\n",
       "10                         b'la atencion a sido excelente'\n",
       "11                                  b'buena atencion caja'\n",
       "12                                b'su atencion y rapidez'\n",
       "13                     b'la atencion fue rapida y precisa'\n",
       "14       b'por q su personal es muy eficiente y hacen a...\n",
       "15       b'porque la atencion fue bastante cordial la t...\n",
       "16       b'porque recibi una atencion amable desde que ...\n",
       "17       b'por que resolvieron mis dudas me dieron buen...\n",
       "18                 b'atencion rapida eficiente amabilidad'\n",
       "19       b'en esta ocasion la atencion fue muy rapida m...\n",
       "20                  b'buena calidad y rapidez de atencion'\n",
       "21                                        b'bien recibido'\n",
       "22       b'es la primera vez que me acerco a esta agenc...\n",
       "23                                   b'excelente atencion'\n",
       "24                                      b'atencion rapida'\n",
       "25                             b'conforme con la atencion'\n",
       "26       b'la amabilidad y paciencia al explicar mi  ca...\n",
       "27       b'fue la atencion mas rapida y con una buena g...\n",
       "28                      b'orden   rapidez en la atencion '\n",
       "29       b'el trato fue amable y cordial como correspon...\n",
       "                               ...                        \n",
       "13260           b'me asusto el chico que tiene una tablet'\n",
       "13261    b'no esperar tanto tiempo para ser atendido  n...\n",
       "13262                    b'mayor velocidad en la atencion'\n",
       "13263    b'para disposicion en efectivo el sistema arro...\n",
       "13264    b' lo que pasa es que el sistema de plataforma...\n",
       "13265              b'mas cajeros y atencion en ventanilla'\n",
       "13266    b'yo normalmente retiro por cajero en moneda d...\n",
       "13267        b'tener mayor consideracion con preferencial'\n",
       "13268                      b'demorar menos en la atencion'\n",
       "13269    b'que sean mas rapidos en la atencion que habi...\n",
       "13270                                               b'gjh'\n",
       "13271    b'porque siempre que hago alguna operacion y d...\n",
       "13272                               b'mas rapida atencion'\n",
       "13273    b'que me brinden en plataforma mas informacion...\n",
       "13274    b'el tramite que realice demoro debido a probl...\n",
       "13275    b'si estuvo satisfecho sino que a mi celular l...\n",
       "13276    b'demora en la atencion al cliente habian  ven...\n",
       "13277       b'siempre e discrepado la forma como atienden'\n",
       "13278    b'se acerco mi papa para ver el tema del prest...\n",
       "13279    b'que hayan mas ventanillas en la calle se for...\n",
       "13280      b'aclarar las dudas que tengo sobre mi tarjeta'\n",
       "13281    b'creo que seria bueno si me regalan plata est...\n",
       "13282    b'mas promotores en ventanilla las colas son m...\n",
       "13283                              b'cogero no funcionaba'\n",
       "13284    b'la persona que me atendio no se mostro compl...\n",
       "13285    b'hice un abono de  la cual no me comunico que...\n",
       "13286                                          b'atencion'\n",
       "13287            b'la demora en la atencion en ventanilla'\n",
       "13288    b'que atiendan en todas las cajas para que el ...\n",
       "13289    b'mejor trato por parte de la persona que atie...\n",
       "Name: Comentariomin, Length: 13290, dtype: object"
      ]
     },
     "execution_count": 9,
     "metadata": {},
     "output_type": "execute_result"
    }
   ],
   "source": [
    "#tenemos que transformar la data a string que nos interesa\n",
    "#primera forma\n",
    "df[\"Comentariomin\"].str.encode(\"utf-8\")"
   ]
  },
  {
   "cell_type": "code",
   "execution_count": 10,
   "metadata": {},
   "outputs": [
    {
     "data": {
      "text/plain": [
       "array(['totalmente satisfecho x q resolvieron mi  consulta y x q la atencion fue muy buena y mis dudas fueron respondidas',\n",
       "       'la atencion fue rapida y clara', 'me atendieron bien', ...,\n",
       "       'la demora en la atencion en ventanilla',\n",
       "       'que atiendan en todas las cajas para que el movimiento de clientes sea mas rapido',\n",
       "       'mejor trato por parte de la persona que atiende'], dtype=object)"
      ]
     },
     "execution_count": 10,
     "metadata": {},
     "output_type": "execute_result"
    }
   ],
   "source": [
    "#segunda forma\n",
    "df[\"Comentariomin\"].values"
   ]
  },
  {
   "cell_type": "code",
   "execution_count": 6,
   "metadata": {
    "collapsed": true
   },
   "outputs": [
    {
     "data": {
      "text/html": [
       "<div>\n",
       "<style>\n",
       "    .dataframe thead tr:only-child th {\n",
       "        text-align: right;\n",
       "    }\n",
       "\n",
       "    .dataframe thead th {\n",
       "        text-align: left;\n",
       "    }\n",
       "\n",
       "    .dataframe tbody tr th {\n",
       "        vertical-align: top;\n",
       "    }\n",
       "</style>\n",
       "<table border=\"1\" class=\"dataframe\">\n",
       "  <thead>\n",
       "    <tr style=\"text-align: right;\">\n",
       "      <th></th>\n",
       "      <th>Comentariomin</th>\n",
       "    </tr>\n",
       "  </thead>\n",
       "  <tbody>\n",
       "    <tr>\n",
       "      <th>0</th>\n",
       "      <td>totalmente satisfecho x q resolvieron mi  cons...</td>\n",
       "    </tr>\n",
       "    <tr>\n",
       "      <th>1</th>\n",
       "      <td>la atencion fue rapida y clara</td>\n",
       "    </tr>\n",
       "    <tr>\n",
       "      <th>2</th>\n",
       "      <td>me atendieron bien</td>\n",
       "    </tr>\n",
       "    <tr>\n",
       "      <th>3</th>\n",
       "      <td>fue muy rapido la atencion</td>\n",
       "    </tr>\n",
       "    <tr>\n",
       "      <th>4</th>\n",
       "      <td>por que me atendieron muy amablemente con buen...</td>\n",
       "    </tr>\n",
       "    <tr>\n",
       "      <th>5</th>\n",
       "      <td>me atendieron bien con mucha atencion</td>\n",
       "    </tr>\n",
       "    <tr>\n",
       "      <th>6</th>\n",
       "      <td>la atencion de las señoritas de la entrada fue...</td>\n",
       "    </tr>\n",
       "    <tr>\n",
       "      <th>7</th>\n",
       "      <td>porque hay varios cajerosas es una agencia rel...</td>\n",
       "    </tr>\n",
       "    <tr>\n",
       "      <th>8</th>\n",
       "      <td>buena atencion</td>\n",
       "    </tr>\n",
       "    <tr>\n",
       "      <th>9</th>\n",
       "      <td>la atencion fue rapida y no toma mucho tiempo</td>\n",
       "    </tr>\n",
       "    <tr>\n",
       "      <th>10</th>\n",
       "      <td>la atencion a sido excelente</td>\n",
       "    </tr>\n",
       "    <tr>\n",
       "      <th>11</th>\n",
       "      <td>buena atencion caja</td>\n",
       "    </tr>\n",
       "    <tr>\n",
       "      <th>12</th>\n",
       "      <td>su atencion y rapidez</td>\n",
       "    </tr>\n",
       "    <tr>\n",
       "      <th>13</th>\n",
       "      <td>la atencion fue rapida y precisa</td>\n",
       "    </tr>\n",
       "    <tr>\n",
       "      <th>14</th>\n",
       "      <td>por q su personal es muy eficiente y hacen ava...</td>\n",
       "    </tr>\n",
       "    <tr>\n",
       "      <th>15</th>\n",
       "      <td>porque la atencion fue bastante cordial la tra...</td>\n",
       "    </tr>\n",
       "    <tr>\n",
       "      <th>16</th>\n",
       "      <td>porque recibi una atencion amable desde que in...</td>\n",
       "    </tr>\n",
       "    <tr>\n",
       "      <th>17</th>\n",
       "      <td>por que resolvieron mis dudas me dieron buenas...</td>\n",
       "    </tr>\n",
       "    <tr>\n",
       "      <th>18</th>\n",
       "      <td>atencion rapida eficiente amabilidad</td>\n",
       "    </tr>\n",
       "    <tr>\n",
       "      <th>19</th>\n",
       "      <td>en esta ocasion la atencion fue muy rapida muy...</td>\n",
       "    </tr>\n",
       "    <tr>\n",
       "      <th>20</th>\n",
       "      <td>buena calidad y rapidez de atencion</td>\n",
       "    </tr>\n",
       "    <tr>\n",
       "      <th>21</th>\n",
       "      <td>bien recibido</td>\n",
       "    </tr>\n",
       "    <tr>\n",
       "      <th>22</th>\n",
       "      <td>es la primera vez que me acerco a esta agencia...</td>\n",
       "    </tr>\n",
       "    <tr>\n",
       "      <th>23</th>\n",
       "      <td>excelente atencion</td>\n",
       "    </tr>\n",
       "    <tr>\n",
       "      <th>24</th>\n",
       "      <td>atencion rapida</td>\n",
       "    </tr>\n",
       "    <tr>\n",
       "      <th>25</th>\n",
       "      <td>conforme con la atencion</td>\n",
       "    </tr>\n",
       "    <tr>\n",
       "      <th>26</th>\n",
       "      <td>la amabilidad y paciencia al explicar mi  caso...</td>\n",
       "    </tr>\n",
       "    <tr>\n",
       "      <th>27</th>\n",
       "      <td>fue la atencion mas rapida y con una buena gui...</td>\n",
       "    </tr>\n",
       "    <tr>\n",
       "      <th>28</th>\n",
       "      <td>orden   rapidez en la atencion</td>\n",
       "    </tr>\n",
       "    <tr>\n",
       "      <th>29</th>\n",
       "      <td>el trato fue amable y cordial como corresponde...</td>\n",
       "    </tr>\n",
       "    <tr>\n",
       "      <th>...</th>\n",
       "      <td>...</td>\n",
       "    </tr>\n",
       "    <tr>\n",
       "      <th>13260</th>\n",
       "      <td>me asusto el chico que tiene una tablet</td>\n",
       "    </tr>\n",
       "    <tr>\n",
       "      <th>13261</th>\n",
       "      <td>no esperar tanto tiempo para ser atendido  no ...</td>\n",
       "    </tr>\n",
       "    <tr>\n",
       "      <th>13262</th>\n",
       "      <td>mayor velocidad en la atencion</td>\n",
       "    </tr>\n",
       "    <tr>\n",
       "      <th>13263</th>\n",
       "      <td>para disposicion en efectivo el sistema arroja...</td>\n",
       "    </tr>\n",
       "    <tr>\n",
       "      <th>13264</th>\n",
       "      <td>lo que pasa es que el sistema de plataforma e...</td>\n",
       "    </tr>\n",
       "    <tr>\n",
       "      <th>13265</th>\n",
       "      <td>mas cajeros y atencion en ventanilla</td>\n",
       "    </tr>\n",
       "    <tr>\n",
       "      <th>13266</th>\n",
       "      <td>yo normalmente retiro por cajero en moneda dol...</td>\n",
       "    </tr>\n",
       "    <tr>\n",
       "      <th>13267</th>\n",
       "      <td>tener mayor consideracion con preferencial</td>\n",
       "    </tr>\n",
       "    <tr>\n",
       "      <th>13268</th>\n",
       "      <td>demorar menos en la atencion</td>\n",
       "    </tr>\n",
       "    <tr>\n",
       "      <th>13269</th>\n",
       "      <td>que sean mas rapidos en la atencion que habili...</td>\n",
       "    </tr>\n",
       "    <tr>\n",
       "      <th>13270</th>\n",
       "      <td>gjh</td>\n",
       "    </tr>\n",
       "    <tr>\n",
       "      <th>13271</th>\n",
       "      <td>porque siempre que hago alguna operacion y des...</td>\n",
       "    </tr>\n",
       "    <tr>\n",
       "      <th>13272</th>\n",
       "      <td>mas rapida atencion</td>\n",
       "    </tr>\n",
       "    <tr>\n",
       "      <th>13273</th>\n",
       "      <td>que me brinden en plataforma mas informacion s...</td>\n",
       "    </tr>\n",
       "    <tr>\n",
       "      <th>13274</th>\n",
       "      <td>el tramite que realice demoro debido a problem...</td>\n",
       "    </tr>\n",
       "    <tr>\n",
       "      <th>13275</th>\n",
       "      <td>si estuvo satisfecho sino que a mi celular lle...</td>\n",
       "    </tr>\n",
       "    <tr>\n",
       "      <th>13276</th>\n",
       "      <td>demora en la atencion al cliente habian  venta...</td>\n",
       "    </tr>\n",
       "    <tr>\n",
       "      <th>13277</th>\n",
       "      <td>siempre e discrepado la forma como atienden</td>\n",
       "    </tr>\n",
       "    <tr>\n",
       "      <th>13278</th>\n",
       "      <td>se acerco mi papa para ver el tema del prestam...</td>\n",
       "    </tr>\n",
       "    <tr>\n",
       "      <th>13279</th>\n",
       "      <td>que hayan mas ventanillas en la calle se forma...</td>\n",
       "    </tr>\n",
       "    <tr>\n",
       "      <th>13280</th>\n",
       "      <td>aclarar las dudas que tengo sobre mi tarjeta</td>\n",
       "    </tr>\n",
       "    <tr>\n",
       "      <th>13281</th>\n",
       "      <td>creo que seria bueno si me regalan plata estar...</td>\n",
       "    </tr>\n",
       "    <tr>\n",
       "      <th>13282</th>\n",
       "      <td>mas promotores en ventanilla las colas son muy...</td>\n",
       "    </tr>\n",
       "    <tr>\n",
       "      <th>13283</th>\n",
       "      <td>cogero no funcionaba</td>\n",
       "    </tr>\n",
       "    <tr>\n",
       "      <th>13284</th>\n",
       "      <td>la persona que me atendio no se mostro complet...</td>\n",
       "    </tr>\n",
       "    <tr>\n",
       "      <th>13285</th>\n",
       "      <td>hice un abono de  la cual no me comunico que p...</td>\n",
       "    </tr>\n",
       "    <tr>\n",
       "      <th>13286</th>\n",
       "      <td>atencion</td>\n",
       "    </tr>\n",
       "    <tr>\n",
       "      <th>13287</th>\n",
       "      <td>la demora en la atencion en ventanilla</td>\n",
       "    </tr>\n",
       "    <tr>\n",
       "      <th>13288</th>\n",
       "      <td>que atiendan en todas las cajas para que el mo...</td>\n",
       "    </tr>\n",
       "    <tr>\n",
       "      <th>13289</th>\n",
       "      <td>mejor trato por parte de la persona que atiende</td>\n",
       "    </tr>\n",
       "  </tbody>\n",
       "</table>\n",
       "<p>13290 rows × 1 columns</p>\n",
       "</div>"
      ],
      "text/plain": [
       "                                           Comentariomin\n",
       "0      totalmente satisfecho x q resolvieron mi  cons...\n",
       "1                         la atencion fue rapida y clara\n",
       "2                                     me atendieron bien\n",
       "3                             fue muy rapido la atencion\n",
       "4      por que me atendieron muy amablemente con buen...\n",
       "5                  me atendieron bien con mucha atencion\n",
       "6      la atencion de las señoritas de la entrada fue...\n",
       "7      porque hay varios cajerosas es una agencia rel...\n",
       "8                                         buena atencion\n",
       "9          la atencion fue rapida y no toma mucho tiempo\n",
       "10                          la atencion a sido excelente\n",
       "11                                   buena atencion caja\n",
       "12                                 su atencion y rapidez\n",
       "13                      la atencion fue rapida y precisa\n",
       "14     por q su personal es muy eficiente y hacen ava...\n",
       "15     porque la atencion fue bastante cordial la tra...\n",
       "16     porque recibi una atencion amable desde que in...\n",
       "17     por que resolvieron mis dudas me dieron buenas...\n",
       "18                  atencion rapida eficiente amabilidad\n",
       "19     en esta ocasion la atencion fue muy rapida muy...\n",
       "20                   buena calidad y rapidez de atencion\n",
       "21                                         bien recibido\n",
       "22     es la primera vez que me acerco a esta agencia...\n",
       "23                                    excelente atencion\n",
       "24                                       atencion rapida\n",
       "25                              conforme con la atencion\n",
       "26     la amabilidad y paciencia al explicar mi  caso...\n",
       "27     fue la atencion mas rapida y con una buena gui...\n",
       "28                       orden   rapidez en la atencion \n",
       "29     el trato fue amable y cordial como corresponde...\n",
       "...                                                  ...\n",
       "13260            me asusto el chico que tiene una tablet\n",
       "13261  no esperar tanto tiempo para ser atendido  no ...\n",
       "13262                     mayor velocidad en la atencion\n",
       "13263  para disposicion en efectivo el sistema arroja...\n",
       "13264   lo que pasa es que el sistema de plataforma e...\n",
       "13265               mas cajeros y atencion en ventanilla\n",
       "13266  yo normalmente retiro por cajero en moneda dol...\n",
       "13267         tener mayor consideracion con preferencial\n",
       "13268                       demorar menos en la atencion\n",
       "13269  que sean mas rapidos en la atencion que habili...\n",
       "13270                                                gjh\n",
       "13271  porque siempre que hago alguna operacion y des...\n",
       "13272                                mas rapida atencion\n",
       "13273  que me brinden en plataforma mas informacion s...\n",
       "13274  el tramite que realice demoro debido a problem...\n",
       "13275  si estuvo satisfecho sino que a mi celular lle...\n",
       "13276  demora en la atencion al cliente habian  venta...\n",
       "13277        siempre e discrepado la forma como atienden\n",
       "13278  se acerco mi papa para ver el tema del prestam...\n",
       "13279  que hayan mas ventanillas en la calle se forma...\n",
       "13280       aclarar las dudas que tengo sobre mi tarjeta\n",
       "13281  creo que seria bueno si me regalan plata estar...\n",
       "13282  mas promotores en ventanilla las colas son muy...\n",
       "13283                               cogero no funcionaba\n",
       "13284  la persona que me atendio no se mostro complet...\n",
       "13285  hice un abono de  la cual no me comunico que p...\n",
       "13286                                           atencion\n",
       "13287             la demora en la atencion en ventanilla\n",
       "13288  que atiendan en todas las cajas para que el mo...\n",
       "13289    mejor trato por parte de la persona que atiende\n",
       "\n",
       "[13290 rows x 1 columns]"
      ]
     },
     "execution_count": 6,
     "metadata": {},
     "output_type": "execute_result"
    }
   ],
   "source": [
    "#tercera forma\n",
    "pd.DataFrame(df[\"Comentariomin\"])"
   ]
  },
  {
   "cell_type": "code",
   "execution_count": 18,
   "metadata": {},
   "outputs": [],
   "source": [
    "#Guardamos los datos transformados\n",
    "np.savetxt(\"comments.txt\", pd.DataFrame(df[\"Comentariomin\"].values), fmt='%s', encoding=\"utf-8\")"
   ]
  },
  {
   "cell_type": "code",
   "execution_count": 19,
   "metadata": {},
   "outputs": [
    {
     "data": {
      "text/plain": [
       "<gensim.models.word2vec.Text8Corpus at 0x769ad3e128>"
      ]
     },
     "execution_count": 19,
     "metadata": {},
     "output_type": "execute_result"
    }
   ],
   "source": [
    "from gensim.models import word2vec\n",
    "sentences = word2vec.Text8Corpus(\"comments.txt\") #la función corpus necesita que la data este en utf-8\n",
    "sentences"
   ]
  },
  {
   "cell_type": "code",
   "execution_count": 20,
   "metadata": {
    "collapsed": true
   },
   "outputs": [],
   "source": [
    "#generamos nuestro modelo \n",
    "model = word2vec.Word2Vec(sentences, size=200,min_count=2)#vector de tamaño 200"
   ]
  },
  {
   "cell_type": "code",
   "execution_count": 21,
   "metadata": {
    "collapsed": true
   },
   "outputs": [
    {
     "name": "stderr",
     "output_type": "stream",
     "text": [
      "C:\\Users\\DMC-L001\\Anaconda3\\lib\\site-packages\\ipykernel\\__main__.py:1: DeprecationWarning: Call to deprecated `__getitem__` (Method will be removed in 4.0.0, use self.wv.__getitem__() instead).\n",
      "  if __name__ == '__main__':\n"
     ]
    },
    {
     "data": {
      "text/plain": [
       "array([-6.88134646e-03, -1.47410035e-01,  4.24128681e-01,  3.34832370e-01,\n",
       "        1.68207511e-01,  6.34761453e-01, -1.43569052e-01, -2.05369145e-01,\n",
       "       -1.39561415e-01,  1.21010788e-01,  1.85340255e-01,  2.62631387e-01,\n",
       "       -3.99552673e-01, -1.17734432e-01,  1.56459957e-01, -3.22768569e-01,\n",
       "       -1.30563349e-01, -2.72482261e-02, -3.90807837e-02,  1.25530779e-01,\n",
       "       -2.08012670e-01, -6.29800379e-01,  2.54054606e-01, -9.15693268e-02,\n",
       "       -1.21408831e-02, -1.06514059e-01,  2.79475935e-02,  8.04604813e-02,\n",
       "       -1.65321156e-01,  1.21617660e-01, -2.02554185e-02, -1.24445051e-01,\n",
       "       -1.96369112e-01, -3.86710800e-02, -3.66897434e-01,  9.67540517e-02,\n",
       "        2.27112144e-01,  1.96212053e-01, -2.13544909e-02,  2.82634169e-01,\n",
       "       -3.54511559e-01, -2.81685404e-02,  1.80983752e-01, -2.35572189e-01,\n",
       "       -9.03952047e-02, -4.61446464e-01,  7.09211305e-02,  7.23422021e-02,\n",
       "        1.45496607e-01,  1.92977622e-01,  1.99721158e-01,  1.18781000e-01,\n",
       "       -2.67112076e-01,  1.33050129e-01, -5.06508768e-01, -5.71166337e-01,\n",
       "        1.84527233e-01, -1.75380081e-01,  1.61458608e-02,  2.90434629e-01,\n",
       "       -1.23574115e-01, -3.14826638e-01,  2.17286050e-02,  4.58084494e-02,\n",
       "        1.00722075e-01,  5.30378401e-01, -7.09325746e-02, -9.88480374e-02,\n",
       "       -1.45378083e-01,  6.16527125e-02, -2.98222508e-02, -1.15662426e-01,\n",
       "        5.10684103e-02, -2.78936386e-01, -6.18906468e-02,  1.29175678e-01,\n",
       "        5.75892292e-02, -2.61281729e-01,  2.65542179e-01,  1.15261711e-01,\n",
       "        4.34741117e-02, -1.76827356e-01, -4.50544447e-01, -1.69654518e-01,\n",
       "       -3.41508980e-03, -5.62809594e-03,  3.80171537e-01, -4.20323126e-02,\n",
       "       -6.26888573e-02,  2.18464971e-01,  6.19155765e-02,  7.84830004e-02,\n",
       "        1.11334167e-01,  2.30352670e-01, -2.60551810e-01, -1.30540088e-01,\n",
       "        2.22679287e-01,  6.69710040e-02, -3.86762172e-01, -1.36293009e-01,\n",
       "       -2.58052170e-01, -9.34007548e-05,  1.12939775e-02, -4.92206439e-02,\n",
       "        1.94956318e-01,  1.67760417e-01,  9.77735966e-03, -3.40362005e-02,\n",
       "       -7.97044113e-02, -2.70584494e-01, -5.30425429e-01,  5.58432043e-01,\n",
       "        1.58798993e-02, -2.43794337e-01,  1.54725209e-01, -4.43126202e-01,\n",
       "       -6.15084954e-02,  1.07263103e-01, -1.20725110e-01,  1.36092037e-01,\n",
       "        1.08844349e-02, -2.22302184e-01, -1.08463138e-01, -4.84113425e-01,\n",
       "       -1.48801506e-01, -2.02585429e-01,  3.89215291e-01,  6.12207413e-01,\n",
       "       -1.12026336e-03, -1.04010530e-01, -1.84898414e-02,  1.19366609e-02,\n",
       "       -1.45999178e-01, -1.93572879e-01, -6.14888454e-03, -5.33524156e-03,\n",
       "       -2.93442816e-01, -3.64460684e-02,  2.09880084e-01, -2.37579450e-01,\n",
       "        3.89316976e-01, -4.19416688e-02,  6.36281312e-01,  5.04122615e-01,\n",
       "       -3.58046472e-01, -1.74341977e-01,  3.29196572e-01, -1.22178286e-01,\n",
       "       -3.59891146e-01, -2.15261132e-01,  5.78388609e-02, -9.00470614e-02,\n",
       "        2.66023546e-01, -7.77913779e-02, -1.29019082e-01, -2.79649377e-01,\n",
       "       -3.57938260e-01, -3.67947698e-01, -3.95383388e-02,  1.03416637e-01,\n",
       "       -1.93754330e-01,  1.19980745e-01,  2.82633811e-01,  2.94435322e-01,\n",
       "       -3.90701257e-02, -9.16138440e-02, -6.69694766e-02, -1.88387871e-01,\n",
       "       -2.01883003e-01,  1.77720845e-01, -1.94995642e-01,  2.87744850e-01,\n",
       "       -1.98533192e-01, -1.59862742e-01, -1.64394230e-02,  7.51809239e-01,\n",
       "       -5.75798303e-02, -2.71686822e-01,  2.81015247e-01,  1.64339170e-01,\n",
       "        1.10653110e-01,  4.60622191e-01,  2.59256214e-01, -1.13428257e-01,\n",
       "        2.36870348e-02, -1.95646912e-01, -3.89031135e-02, -2.14314625e-01,\n",
       "       -1.46422327e-01, -8.96387920e-02, -2.68667519e-01,  1.50756389e-01,\n",
       "       -6.91750720e-02, -3.77362907e-01,  4.46131527e-01,  3.24739456e-01,\n",
       "       -2.72543103e-01, -4.83163744e-02, -2.33743154e-02,  5.24538279e-01],\n",
       "      dtype=float32)"
      ]
     },
     "execution_count": 21,
     "metadata": {},
     "output_type": "execute_result"
    }
   ],
   "source": [
    "model[\"bueno\"]"
   ]
  },
  {
   "cell_type": "code",
   "execution_count": 25,
   "metadata": {},
   "outputs": [
    {
     "data": {
      "text/plain": [
       "4964"
      ]
     },
     "execution_count": 25,
     "metadata": {},
     "output_type": "execute_result"
    }
   ],
   "source": [
    "len(model.wv.vocab)#para saber cuantas palabras tiene nuestro modelo"
   ]
  },
  {
   "cell_type": "code",
   "execution_count": 126,
   "metadata": {
    "collapsed": true
   },
   "outputs": [],
   "source": [
    "def getFV(document):#recibe un documento\n",
    "    #a ese documento, que es un comentario especifico, lo tekenizamos con split\n",
    "    words=document.split()\n",
    "    s=np.zeros(200)\n",
    "    k=1\n",
    "    for w in words:#a traves del for vamos sumando mientras la palabra está en el vocabulario\n",
    "        if w in model.wv.vocab:\n",
    "            s=s+model[w]\n",
    "            k=k+1\n",
    "    \n",
    "    return s/k # devuelve un vector caracteristico por comentario"
   ]
  },
  {
   "cell_type": "code",
   "execution_count": 29,
   "metadata": {},
   "outputs": [
    {
     "data": {
      "text/plain": [
       "(6595, 2)"
      ]
     },
     "execution_count": 29,
     "metadata": {},
     "output_type": "execute_result"
    }
   ],
   "source": [
    "#seleccionar los comentarios positivos\n",
    "df_positives = df[df[\"EVALUACION\"]>=4] #para tener los datos en si (y no solo true or false) lo coloco dentro de otro dataframe\n",
    "df_positives.shape"
   ]
  },
  {
   "cell_type": "code",
   "execution_count": 30,
   "metadata": {},
   "outputs": [
    {
     "data": {
      "text/plain": [
       "(6695, 2)"
      ]
     },
     "execution_count": 30,
     "metadata": {},
     "output_type": "execute_result"
    }
   ],
   "source": [
    "#seleccionar los comentarios negativos\n",
    "df_negatives = df[df[\"EVALUACION\"]<4] \n",
    "df_negatives.shape"
   ]
  },
  {
   "cell_type": "code",
   "execution_count": 164,
   "metadata": {},
   "outputs": [
    {
     "data": {
      "text/html": [
       "<div>\n",
       "<style>\n",
       "    .dataframe thead tr:only-child th {\n",
       "        text-align: right;\n",
       "    }\n",
       "\n",
       "    .dataframe thead th {\n",
       "        text-align: left;\n",
       "    }\n",
       "\n",
       "    .dataframe tbody tr th {\n",
       "        vertical-align: top;\n",
       "    }\n",
       "</style>\n",
       "<table border=\"1\" class=\"dataframe\">\n",
       "  <thead>\n",
       "    <tr style=\"text-align: right;\">\n",
       "      <th></th>\n",
       "      <th>EVALUACION</th>\n",
       "      <th>Comentariomin</th>\n",
       "    </tr>\n",
       "  </thead>\n",
       "  <tbody>\n",
       "    <tr>\n",
       "      <th>1330</th>\n",
       "      <td>5</td>\n",
       "      <td>porque soy muy amables con la ayuda y la atenc...</td>\n",
       "    </tr>\n",
       "    <tr>\n",
       "      <th>278</th>\n",
       "      <td>5</td>\n",
       "      <td>menos descongestionada</td>\n",
       "    </tr>\n",
       "    <tr>\n",
       "      <th>4545</th>\n",
       "      <td>5</td>\n",
       "      <td>pude realizar todas las transacciones deseadas</td>\n",
       "    </tr>\n",
       "    <tr>\n",
       "      <th>2679</th>\n",
       "      <td>5</td>\n",
       "      <td>un excente trato al cliente buena y oportuna i...</td>\n",
       "    </tr>\n",
       "    <tr>\n",
       "      <th>1184</th>\n",
       "      <td>5</td>\n",
       "      <td>buena atencion y dudas aclaradas</td>\n",
       "    </tr>\n",
       "  </tbody>\n",
       "</table>\n",
       "</div>"
      ],
      "text/plain": [
       "      EVALUACION                                      Comentariomin\n",
       "1330           5  porque soy muy amables con la ayuda y la atenc...\n",
       "278            5                             menos descongestionada\n",
       "4545           5     pude realizar todas las transacciones deseadas\n",
       "2679           5  un excente trato al cliente buena y oportuna i...\n",
       "1184           5                   buena atencion y dudas aclaradas"
      ]
     },
     "execution_count": 164,
     "metadata": {},
     "output_type": "execute_result"
    }
   ],
   "source": [
    "#usaremos solamente 800 datos para train\n",
    "positive_train = df_positives[:5000].sample(800)\n",
    "positive_train.head()"
   ]
  },
  {
   "cell_type": "code",
   "execution_count": 179,
   "metadata": {
    "scrolled": true
   },
   "outputs": [
    {
     "data": {
      "text/html": [
       "<div>\n",
       "<style>\n",
       "    .dataframe thead tr:only-child th {\n",
       "        text-align: right;\n",
       "    }\n",
       "\n",
       "    .dataframe thead th {\n",
       "        text-align: left;\n",
       "    }\n",
       "\n",
       "    .dataframe tbody tr th {\n",
       "        vertical-align: top;\n",
       "    }\n",
       "</style>\n",
       "<table border=\"1\" class=\"dataframe\">\n",
       "  <thead>\n",
       "    <tr style=\"text-align: right;\">\n",
       "      <th></th>\n",
       "      <th>EVALUACION</th>\n",
       "      <th>Comentariomin</th>\n",
       "    </tr>\n",
       "  </thead>\n",
       "  <tbody>\n",
       "    <tr>\n",
       "      <th>10572</th>\n",
       "      <td>2</td>\n",
       "      <td>el cajero de depostos estaba malogrado y ningu...</td>\n",
       "    </tr>\n",
       "    <tr>\n",
       "      <th>11374</th>\n",
       "      <td>3</td>\n",
       "      <td>buena atencion</td>\n",
       "    </tr>\n",
       "    <tr>\n",
       "      <th>9004</th>\n",
       "      <td>1</td>\n",
       "      <td>ya van  tarjetas que voy sacando cual resulta ...</td>\n",
       "    </tr>\n",
       "    <tr>\n",
       "      <th>9229</th>\n",
       "      <td>3</td>\n",
       "      <td>mayor vocacion de servicio</td>\n",
       "    </tr>\n",
       "    <tr>\n",
       "      <th>6831</th>\n",
       "      <td>2</td>\n",
       "      <td>no tenian sistema la orientadora me decia que ...</td>\n",
       "    </tr>\n",
       "  </tbody>\n",
       "</table>\n",
       "</div>"
      ],
      "text/plain": [
       "       EVALUACION                                      Comentariomin\n",
       "10572           2  el cajero de depostos estaba malogrado y ningu...\n",
       "11374           3                                     buena atencion\n",
       "9004            1  ya van  tarjetas que voy sacando cual resulta ...\n",
       "9229            3                         mayor vocacion de servicio\n",
       "6831            2  no tenian sistema la orientadora me decia que ..."
      ]
     },
     "execution_count": 179,
     "metadata": {},
     "output_type": "execute_result"
    }
   ],
   "source": [
    "negative_train = df_negatives[:5000].sample(800)\n",
    "negative_train.head()"
   ]
  },
  {
   "cell_type": "code",
   "execution_count": 166,
   "metadata": {},
   "outputs": [
    {
     "data": {
      "text/html": [
       "<div>\n",
       "<style>\n",
       "    .dataframe thead tr:only-child th {\n",
       "        text-align: right;\n",
       "    }\n",
       "\n",
       "    .dataframe thead th {\n",
       "        text-align: left;\n",
       "    }\n",
       "\n",
       "    .dataframe tbody tr th {\n",
       "        vertical-align: top;\n",
       "    }\n",
       "</style>\n",
       "<table border=\"1\" class=\"dataframe\">\n",
       "  <thead>\n",
       "    <tr style=\"text-align: right;\">\n",
       "      <th></th>\n",
       "      <th>EVALUACION</th>\n",
       "      <th>Comentariomin</th>\n",
       "    </tr>\n",
       "  </thead>\n",
       "  <tbody>\n",
       "    <tr>\n",
       "      <th>1247</th>\n",
       "      <td>4</td>\n",
       "      <td>por la buena atencion aunque no tuve buen resu...</td>\n",
       "    </tr>\n",
       "    <tr>\n",
       "      <th>872</th>\n",
       "      <td>5</td>\n",
       "      <td>por la atencion rapida y eficiente del persona...</td>\n",
       "    </tr>\n",
       "    <tr>\n",
       "      <th>602</th>\n",
       "      <td>5</td>\n",
       "      <td>atencion muy rapida</td>\n",
       "    </tr>\n",
       "    <tr>\n",
       "      <th>4515</th>\n",
       "      <td>4</td>\n",
       "      <td>no hubo cola y el trato fue muy amable</td>\n",
       "    </tr>\n",
       "    <tr>\n",
       "      <th>3480</th>\n",
       "      <td>5</td>\n",
       "      <td>la atencion fue de lo mejor</td>\n",
       "    </tr>\n",
       "  </tbody>\n",
       "</table>\n",
       "</div>"
      ],
      "text/plain": [
       "      EVALUACION                                      Comentariomin\n",
       "1247           4  por la buena atencion aunque no tuve buen resu...\n",
       "872            5  por la atencion rapida y eficiente del persona...\n",
       "602            5                                atencion muy rapida\n",
       "4515           4             no hubo cola y el trato fue muy amable\n",
       "3480           5                        la atencion fue de lo mejor"
      ]
     },
     "execution_count": 166,
     "metadata": {},
     "output_type": "execute_result"
    }
   ],
   "source": [
    "#usaremos solamente 200 datos para test\n",
    "positive_test = df_positives[:5000].sample(200)\n",
    "positive_test.head()"
   ]
  },
  {
   "cell_type": "code",
   "execution_count": 167,
   "metadata": {},
   "outputs": [
    {
     "data": {
      "text/html": [
       "<div>\n",
       "<style>\n",
       "    .dataframe thead tr:only-child th {\n",
       "        text-align: right;\n",
       "    }\n",
       "\n",
       "    .dataframe thead th {\n",
       "        text-align: left;\n",
       "    }\n",
       "\n",
       "    .dataframe tbody tr th {\n",
       "        vertical-align: top;\n",
       "    }\n",
       "</style>\n",
       "<table border=\"1\" class=\"dataframe\">\n",
       "  <thead>\n",
       "    <tr style=\"text-align: right;\">\n",
       "      <th></th>\n",
       "      <th>EVALUACION</th>\n",
       "      <th>Comentariomin</th>\n",
       "    </tr>\n",
       "  </thead>\n",
       "  <tbody>\n",
       "    <tr>\n",
       "      <th>7589</th>\n",
       "      <td>2</td>\n",
       "      <td>fui a pedir que me ayuden a solucionar un prob...</td>\n",
       "    </tr>\n",
       "    <tr>\n",
       "      <th>7552</th>\n",
       "      <td>2</td>\n",
       "      <td>pese a ser una cliente de largo tiempome ha de...</td>\n",
       "    </tr>\n",
       "    <tr>\n",
       "      <th>10861</th>\n",
       "      <td>2</td>\n",
       "      <td>mala asesoria en plataforma</td>\n",
       "    </tr>\n",
       "    <tr>\n",
       "      <th>9725</th>\n",
       "      <td>3</td>\n",
       "      <td>ser totalmente informado recibi la renovacion ...</td>\n",
       "    </tr>\n",
       "    <tr>\n",
       "      <th>6813</th>\n",
       "      <td>2</td>\n",
       "      <td>veo  cajas pero siempre abren solo  o  tomando...</td>\n",
       "    </tr>\n",
       "  </tbody>\n",
       "</table>\n",
       "</div>"
      ],
      "text/plain": [
       "       EVALUACION                                      Comentariomin\n",
       "7589            2  fui a pedir que me ayuden a solucionar un prob...\n",
       "7552            2  pese a ser una cliente de largo tiempome ha de...\n",
       "10861           2                        mala asesoria en plataforma\n",
       "9725            3  ser totalmente informado recibi la renovacion ...\n",
       "6813            2  veo  cajas pero siempre abren solo  o  tomando..."
      ]
     },
     "execution_count": 167,
     "metadata": {},
     "output_type": "execute_result"
    }
   ],
   "source": [
    "negative_test = df_negatives[:5000].sample(200)\n",
    "negative_test.head()"
   ]
  },
  {
   "cell_type": "code",
   "execution_count": 180,
   "metadata": {},
   "outputs": [
    {
     "name": "stderr",
     "output_type": "stream",
     "text": [
      "C:\\Users\\DMC-L001\\Anaconda3\\lib\\site-packages\\ipykernel\\__main__.py:8: DeprecationWarning: Call to deprecated `__getitem__` (Method will be removed in 4.0.0, use self.wv.__getitem__() instead).\n"
     ]
    },
    {
     "data": {
      "text/plain": [
       "(800, 200)"
      ]
     },
     "execution_count": 180,
     "metadata": {},
     "output_type": "execute_result"
    }
   ],
   "source": [
    "v_positive_train = getFV(positive_train[\"Comentariomin\"].values[0])\n",
    "#construimos el vetor caracteristico para los 4 conjuntos y todos sus elementos\n",
    "v_positive_train = positive_train[\"Comentariomin\"].apply(lambda x: getFV(x))\n",
    "v_positive_train = np.matrix(v_positive_train.tolist())\n",
    "v_positive_train.shape"
   ]
  },
  {
   "cell_type": "code",
   "execution_count": 181,
   "metadata": {},
   "outputs": [
    {
     "name": "stderr",
     "output_type": "stream",
     "text": [
      "C:\\Users\\DMC-L001\\Anaconda3\\lib\\site-packages\\ipykernel\\__main__.py:8: DeprecationWarning: Call to deprecated `__getitem__` (Method will be removed in 4.0.0, use self.wv.__getitem__() instead).\n"
     ]
    },
    {
     "data": {
      "text/plain": [
       "(800, 200)"
      ]
     },
     "execution_count": 181,
     "metadata": {},
     "output_type": "execute_result"
    }
   ],
   "source": [
    "v_negative_train = negative_train[\"Comentariomin\"].apply(lambda x: getFV(x)).as_matrix(columns=None)\n",
    "v_negative_train = np.matrix(v_negative_train.tolist())\n",
    "v_negative_train.shape"
   ]
  },
  {
   "cell_type": "code",
   "execution_count": 182,
   "metadata": {},
   "outputs": [
    {
     "name": "stderr",
     "output_type": "stream",
     "text": [
      "C:\\Users\\DMC-L001\\Anaconda3\\lib\\site-packages\\ipykernel\\__main__.py:8: DeprecationWarning: Call to deprecated `__getitem__` (Method will be removed in 4.0.0, use self.wv.__getitem__() instead).\n"
     ]
    },
    {
     "data": {
      "text/plain": [
       "(200, 200)"
      ]
     },
     "execution_count": 182,
     "metadata": {},
     "output_type": "execute_result"
    }
   ],
   "source": [
    "v_positive_test = positive_test[\"Comentariomin\"].apply(lambda x: getFV(x))\n",
    "v_positive_test = np.matrix(v_positive_test.tolist())\n",
    "v_positive_test.shape"
   ]
  },
  {
   "cell_type": "code",
   "execution_count": 183,
   "metadata": {},
   "outputs": [
    {
     "name": "stderr",
     "output_type": "stream",
     "text": [
      "C:\\Users\\DMC-L001\\Anaconda3\\lib\\site-packages\\ipykernel\\__main__.py:8: DeprecationWarning: Call to deprecated `__getitem__` (Method will be removed in 4.0.0, use self.wv.__getitem__() instead).\n"
     ]
    },
    {
     "data": {
      "text/plain": [
       "matrix([[-0.02593654, -0.16812548,  0.2789196 , ...,  0.06996994,\n",
       "         -0.09652223,  0.45712714],\n",
       "        [-0.03213248, -0.13451513,  0.28686782, ...,  0.05696358,\n",
       "         -0.04482666,  0.43903045],\n",
       "        [ 0.06017977, -0.02077689,  0.3085671 , ..., -0.1048305 ,\n",
       "         -0.01368178,  0.3603955 ],\n",
       "        ...,\n",
       "        [ 0.02600698, -0.04469763,  0.40998596, ..., -0.08166715,\n",
       "          0.04110167,  0.46944109],\n",
       "        [-0.0316714 , -0.15631191,  0.27438112, ...,  0.09529478,\n",
       "         -0.05211977,  0.45507052],\n",
       "        [-0.04292275, -0.13250409,  0.29137684, ...,  0.05855245,\n",
       "         -0.06283559,  0.44495171]])"
      ]
     },
     "execution_count": 183,
     "metadata": {},
     "output_type": "execute_result"
    }
   ],
   "source": [
    "v_negative_test = negative_test[\"Comentariomin\"].apply(lambda x: getFV(x))\n",
    "v_negative_test = np.matrix(v_negative_test.tolist())\n",
    "v_negative_test"
   ]
  },
  {
   "cell_type": "code",
   "execution_count": null,
   "metadata": {
    "collapsed": true
   },
   "outputs": [],
   "source": [
    "#ahora teniendo los vectores caracteristicos, enviamos a entrenar los datos"
   ]
  },
  {
   "cell_type": "code",
   "execution_count": 189,
   "metadata": {},
   "outputs": [
    {
     "data": {
      "text/plain": [
       "SVC(C=100, cache_size=200, class_weight=None, coef0=0.0,\n",
       "  decision_function_shape='ovr', degree=3, gamma=0.0001, kernel='rbf',\n",
       "  max_iter=-1, probability=False, random_state=None, shrinking=True,\n",
       "  tol=0.001, verbose=False)"
      ]
     },
     "execution_count": 189,
     "metadata": {},
     "output_type": "execute_result"
    }
   ],
   "source": [
    "from sklearn import svm\n",
    "from sklearn import datasets\n",
    "\n",
    "clasificador = svm.SVC(gamma=0.0001,C=100)#construimos el objeto del clasificador\n",
    "\n",
    "#entrenamos\n",
    "X_train = np.concatenate((v_positive_train, v_negative_train), axis=0)\n",
    "Y_train= np.concatenate((positive_train[\"EVALUACION\"].values, negative_train[\"EVALUACION\"].values), axis=0)\n",
    "clasificador.fit(X_train,Y_train)"
   ]
  },
  {
   "cell_type": "code",
   "execution_count": 192,
   "metadata": {},
   "outputs": [
    {
     "data": {
      "text/plain": [
       "array([5, 5, 5, ..., 3, 2, 2], dtype=int64)"
      ]
     },
     "execution_count": 192,
     "metadata": {},
     "output_type": "execute_result"
    }
   ],
   "source": [
    "np.concatenate((positive_train[\"EVALUACION\"].values, negative_train[\"EVALUACION\"].values), axis=0)"
   ]
  },
  {
   "cell_type": "code",
   "execution_count": 194,
   "metadata": {
    "scrolled": true
   },
   "outputs": [
    {
     "data": {
      "text/plain": [
       "array([5, 5, 5, 5, 5, 3, 5, 5, 5, 5, 3, 5, 5, 5, 5, 5, 5, 5, 5, 5, 5, 5,\n",
       "       5, 5, 5, 5, 5, 5, 3, 5, 5, 3, 3, 5, 5, 5, 5, 5, 5, 5, 5, 5, 5, 5,\n",
       "       5, 5, 3, 5, 5, 5, 3, 5, 5, 5, 5, 5, 3, 3, 5, 3, 3, 5, 5, 5, 5, 5,\n",
       "       5, 5, 3, 5, 3, 5, 5, 5, 5, 3, 5, 5, 5, 3, 5, 5, 5, 3, 5, 3, 5, 5,\n",
       "       5, 5, 5, 3, 2, 5, 5, 3, 5, 5, 3, 5, 5, 3, 5, 3, 5, 5, 3, 5, 3, 3,\n",
       "       5, 5, 3, 5, 5, 5, 3, 5, 5, 5, 5, 5, 2, 5, 5, 3, 5, 5, 3, 5, 5, 5,\n",
       "       5, 5, 5, 5, 3, 5, 5, 2, 5, 5, 5, 5, 5, 3, 5, 5, 3, 5, 5, 3, 3, 5,\n",
       "       5, 3, 5, 5, 3, 5, 5, 5, 5, 5, 5, 3, 3, 5, 5, 5, 5, 5, 5, 5, 3, 5,\n",
       "       5, 3, 3, 5, 5, 5, 5, 3, 5, 5, 3, 5, 5, 5, 5, 5, 3, 5, 5, 5, 5, 5,\n",
       "       5, 5, 2, 3, 3, 3, 3, 3, 3, 5, 3, 3, 3, 3, 3, 3, 3, 3, 5, 3, 5, 3,\n",
       "       5, 3, 3, 3, 3, 3, 3, 3, 3, 3, 5, 2, 5, 5, 5, 3, 5, 3, 2, 3, 3, 5,\n",
       "       3, 3, 3, 3, 3, 3, 3, 3, 3, 3, 5, 3, 3, 5, 3, 3, 3, 3, 3, 3, 3, 3,\n",
       "       5, 3, 3, 3, 3, 3, 3, 3, 3, 3, 3, 3, 5, 5, 3, 3, 5, 5, 3, 3, 3, 5,\n",
       "       3, 2, 3, 3, 5, 3, 3, 3, 3, 3, 3, 3, 3, 3, 3, 3, 3, 3, 3, 3, 3, 3,\n",
       "       3, 5, 3, 5, 5, 3, 3, 3, 3, 3, 3, 3, 5, 3, 3, 3, 3, 3, 3, 3, 3, 3,\n",
       "       3, 3, 3, 2, 5, 3, 3, 3, 3, 3, 3, 3, 5, 3, 3, 3, 3, 5, 5, 3, 3, 3,\n",
       "       5, 3, 5, 5, 3, 3, 3, 5, 3, 3, 3, 5, 3, 3, 3, 3, 3, 3, 3, 3, 3, 3,\n",
       "       5, 5, 3, 3, 3, 3, 3, 3, 3, 3, 5, 3, 3, 3, 3, 3, 5, 3, 3, 3, 3, 3,\n",
       "       3, 3, 3, 3], dtype=int64)"
      ]
     },
     "execution_count": 194,
     "metadata": {},
     "output_type": "execute_result"
    }
   ],
   "source": [
    "#TEST\n",
    "X_test =np.concatenate((v_positive_test, v_negative_test), axis=0)\n",
    "clasificador.predict(X_test)"
   ]
  },
  {
   "cell_type": "code",
   "execution_count": 197,
   "metadata": {
    "collapsed": true
   },
   "outputs": [],
   "source": [
    "y_true = np.concatenate((positive_test[\"EVALUACION\"].values, negative_test[\"EVALUACION\"].values), axis=0)\n",
    "y_pred = clasificador.predict(X_test)"
   ]
  },
  {
   "cell_type": "code",
   "execution_count": 198,
   "metadata": {},
   "outputs": [
    {
     "data": {
      "text/plain": [
       "0.4525"
      ]
     },
     "execution_count": 198,
     "metadata": {},
     "output_type": "execute_result"
    }
   ],
   "source": [
    "from sklearn.metrics import accuracy_score\n",
    "accuracy_score(y_true, y_pred)"
   ]
  },
  {
   "cell_type": "code",
   "execution_count": 203,
   "metadata": {},
   "outputs": [
    {
     "name": "stderr",
     "output_type": "stream",
     "text": [
      "C:\\Users\\DMC-L001\\Anaconda3\\lib\\site-packages\\ipykernel\\__main__.py:8: DeprecationWarning: Call to deprecated `__getitem__` (Method will be removed in 4.0.0, use self.wv.__getitem__() instead).\n"
     ]
    }
   ],
   "source": [
    "#probamos la predicción\n",
    "cm = \"Mala atencion\"\n",
    "test_cm = getFV(cm)"
   ]
  },
  {
   "cell_type": "code",
   "execution_count": 204,
   "metadata": {},
   "outputs": [
    {
     "data": {
      "text/plain": [
       "array([5], dtype=int64)"
      ]
     },
     "execution_count": 204,
     "metadata": {},
     "output_type": "execute_result"
    }
   ],
   "source": [
    "test_cm = np.array(test_cm).reshape((1, len(test_cm)))\n",
    "clasificador.predict(test_cm)"
   ]
  }
 ],
 "metadata": {
  "kernelspec": {
   "display_name": "Python 3",
   "language": "python",
   "name": "python3"
  },
  "language_info": {
   "codemirror_mode": {
    "name": "ipython",
    "version": 3
   },
   "file_extension": ".py",
   "mimetype": "text/x-python",
   "name": "python",
   "nbconvert_exporter": "python",
   "pygments_lexer": "ipython3",
   "version": "3.6.0"
  }
 },
 "nbformat": 4,
 "nbformat_minor": 2
}
