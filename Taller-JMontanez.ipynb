{
 "cells": [
  {
   "cell_type": "code",
   "execution_count": 1,
   "metadata": {
    "scrolled": false
   },
   "outputs": [
    {
     "data": {
      "text/html": [
       "<div>\n",
       "<style>\n",
       "    .dataframe thead tr:only-child th {\n",
       "        text-align: right;\n",
       "    }\n",
       "\n",
       "    .dataframe thead th {\n",
       "        text-align: left;\n",
       "    }\n",
       "\n",
       "    .dataframe tbody tr th {\n",
       "        vertical-align: top;\n",
       "    }\n",
       "</style>\n",
       "<table border=\"1\" class=\"dataframe\">\n",
       "  <thead>\n",
       "    <tr style=\"text-align: right;\">\n",
       "      <th></th>\n",
       "      <th>IDENTIFICADOR</th>\n",
       "      <th>INGRESO_BRUTO_FINAL</th>\n",
       "      <th>EDAD</th>\n",
       "      <th>TIPO_CLIENTE</th>\n",
       "      <th>LINEA_TC_SF_M1</th>\n",
       "      <th>SALDO_TC_SF_M1</th>\n",
       "      <th>SALDO_PP_SF_M1</th>\n",
       "      <th>SALDO_VEH_SF_M1</th>\n",
       "      <th>SALDO_HIP_SF_M1</th>\n",
       "      <th>SALDO_CONV_SF_M1</th>\n",
       "    </tr>\n",
       "  </thead>\n",
       "  <tbody>\n",
       "    <tr>\n",
       "      <th>0</th>\n",
       "      <td>11689996</td>\n",
       "      <td>1383.0</td>\n",
       "      <td>35</td>\n",
       "      <td>INDEPENDIENTE</td>\n",
       "      <td>NaN</td>\n",
       "      <td>NaN</td>\n",
       "      <td>NaN</td>\n",
       "      <td>NaN</td>\n",
       "      <td>NaN</td>\n",
       "      <td>NaN</td>\n",
       "    </tr>\n",
       "    <tr>\n",
       "      <th>1</th>\n",
       "      <td>12073740</td>\n",
       "      <td>1702.0</td>\n",
       "      <td>56</td>\n",
       "      <td>DEPENDIENTE</td>\n",
       "      <td>1177.85</td>\n",
       "      <td>738.72</td>\n",
       "      <td>5270.87</td>\n",
       "      <td>0.0</td>\n",
       "      <td>0.00</td>\n",
       "      <td>0.0</td>\n",
       "    </tr>\n",
       "    <tr>\n",
       "      <th>2</th>\n",
       "      <td>8823281</td>\n",
       "      <td>1194.0</td>\n",
       "      <td>41</td>\n",
       "      <td>INDEPENDIENTE</td>\n",
       "      <td>0.00</td>\n",
       "      <td>0.00</td>\n",
       "      <td>0.00</td>\n",
       "      <td>0.0</td>\n",
       "      <td>0.00</td>\n",
       "      <td>0.0</td>\n",
       "    </tr>\n",
       "    <tr>\n",
       "      <th>3</th>\n",
       "      <td>8500942</td>\n",
       "      <td>2157.0</td>\n",
       "      <td>56</td>\n",
       "      <td>DEPENDIENTE</td>\n",
       "      <td>13400.00</td>\n",
       "      <td>2164.80</td>\n",
       "      <td>0.00</td>\n",
       "      <td>0.0</td>\n",
       "      <td>5512.52</td>\n",
       "      <td>0.0</td>\n",
       "    </tr>\n",
       "    <tr>\n",
       "      <th>4</th>\n",
       "      <td>12756072</td>\n",
       "      <td>1626.0</td>\n",
       "      <td>28</td>\n",
       "      <td>INDEPENDIENTE</td>\n",
       "      <td>2800.00</td>\n",
       "      <td>1744.73</td>\n",
       "      <td>0.00</td>\n",
       "      <td>0.0</td>\n",
       "      <td>0.00</td>\n",
       "      <td>0.0</td>\n",
       "    </tr>\n",
       "  </tbody>\n",
       "</table>\n",
       "</div>"
      ],
      "text/plain": [
       "   IDENTIFICADOR  INGRESO_BRUTO_FINAL  EDAD   TIPO_CLIENTE  LINEA_TC_SF_M1  \\\n",
       "0       11689996               1383.0    35  INDEPENDIENTE             NaN   \n",
       "1       12073740               1702.0    56    DEPENDIENTE         1177.85   \n",
       "2        8823281               1194.0    41  INDEPENDIENTE            0.00   \n",
       "3        8500942               2157.0    56    DEPENDIENTE        13400.00   \n",
       "4       12756072               1626.0    28  INDEPENDIENTE         2800.00   \n",
       "\n",
       "   SALDO_TC_SF_M1  SALDO_PP_SF_M1  SALDO_VEH_SF_M1  SALDO_HIP_SF_M1  \\\n",
       "0             NaN             NaN              NaN              NaN   \n",
       "1          738.72         5270.87              0.0             0.00   \n",
       "2            0.00            0.00              0.0             0.00   \n",
       "3         2164.80            0.00              0.0          5512.52   \n",
       "4         1744.73            0.00              0.0             0.00   \n",
       "\n",
       "   SALDO_CONV_SF_M1  \n",
       "0               NaN  \n",
       "1               0.0  \n",
       "2               0.0  \n",
       "3               0.0  \n",
       "4               0.0  "
      ]
     },
     "execution_count": 1,
     "metadata": {},
     "output_type": "execute_result"
    }
   ],
   "source": [
    "import sys\n",
    "import numpy as np\n",
    "from scipy import stats\n",
    "\n",
    "# Import data from csv file\n",
    "import pandas as pd\n",
    "datos0 = pd.read_csv('./TEST_X003.csv')\n",
    "datos0.head()"
   ]
  },
  {
   "cell_type": "markdown",
   "metadata": {},
   "source": [
    "<h1> 1. RELACIÓN ENTRE INGRESOS Y DEUDAS </h1>"
   ]
  },
  {
   "cell_type": "code",
   "execution_count": 2,
   "metadata": {
    "collapsed": true,
    "scrolled": false
   },
   "outputs": [],
   "source": [
    "#1. RELACIÓN ENTRE INGRESOS Y DEUDAS\n",
    "#filtramos los valores nulos con los que no se trabajará\n",
    "datos = datos0.dropna(how='any')"
   ]
  },
  {
   "cell_type": "markdown",
   "metadata": {},
   "source": [
    "<h2> 1.1. Evaluamos la correlación entre ingresos y tarjeta de crédito </h2>"
   ]
  },
  {
   "cell_type": "code",
   "execution_count": 3,
   "metadata": {},
   "outputs": [
    {
     "data": {
      "text/plain": [
       "SpearmanrResult(correlation=0.56969075910271616, pvalue=0.0)"
      ]
     },
     "execution_count": 3,
     "metadata": {},
     "output_type": "execute_result"
    }
   ],
   "source": [
    "#si se acerca a 1 es directamente correlativo\n",
    "#si se acerca a -1 es inversamente correlativo\n",
    "#si se acerca a 0 es que no hay correlación\n",
    "from scipy import stats\n",
    "stats.spearmanr(datos['INGRESO_BRUTO_FINAL'], datos['LINEA_TC_SF_M1']) #Returns:(Pearson’s correlation coef., p-value)"
   ]
  },
  {
   "cell_type": "code",
   "execution_count": 4,
   "metadata": {
    "scrolled": true
   },
   "outputs": [
    {
     "data": {
      "text/plain": [
       "<matplotlib.collections.PathCollection at 0x1a1227da20>"
      ]
     },
     "execution_count": 4,
     "metadata": {},
     "output_type": "execute_result"
    },
    {
     "data": {
      "image/png": "[encoded data removed]",
      "text/plain": [
       "<matplotlib.figure.Figure at 0x1105f3320>"
      ]
     },
     "metadata": {},
     "output_type": "display_data"
    }
   ],
   "source": [
    "#Graficamos\n",
    "%matplotlib inline\n",
    "import matplotlib.pyplot as plt\n",
    "plt.scatter(datos['INGRESO_BRUTO_FINAL'], datos['LINEA_TC_SF_M1'], c='blue', s=15)"
   ]
  },
  {
   "cell_type": "markdown",
   "metadata": {},
   "source": [
    "Conclusión 1.1.: Como coeficiente de correlación es: 0.57, entonces existe relación lineal entre ingresos y TC"
   ]
  },
  {
   "cell_type": "markdown",
   "metadata": {},
   "source": [
    "<h2> 1.2. Evaluamos la correlación entre ingresos y préstamo personal </h2> "
   ]
  },
  {
   "cell_type": "code",
   "execution_count": 5,
   "metadata": {},
   "outputs": [
    {
     "data": {
      "text/plain": [
       "SpearmanrResult(correlation=0.23904867655504985, pvalue=3.49384990335936e-113)"
      ]
     },
     "execution_count": 5,
     "metadata": {},
     "output_type": "execute_result"
    }
   ],
   "source": [
    "stats.spearmanr(datos['INGRESO_BRUTO_FINAL'], datos['SALDO_PP_SF_M1'])"
   ]
  },
  {
   "cell_type": "code",
   "execution_count": 6,
   "metadata": {
    "scrolled": true
   },
   "outputs": [
    {
     "data": {
      "text/plain": [
       "<matplotlib.collections.PathCollection at 0x1a1567a630>"
      ]
     },
     "execution_count": 6,
     "metadata": {},
     "output_type": "execute_result"
    },
    {
     "data": {
      "image/png": "[encoded data removed]",
      "text/plain": [
       "<matplotlib.figure.Figure at 0x1a1223ae10>"
      ]
     },
     "metadata": {},
     "output_type": "display_data"
    }
   ],
   "source": [
    "#Graficamos\n",
    "plt.scatter(datos['INGRESO_BRUTO_FINAL'], datos['SALDO_PP_SF_M1'], c='blue', s=15)"
   ]
  },
  {
   "cell_type": "markdown",
   "metadata": {},
   "source": [
    "Conclusión 1.2.: Como coeficiente de correlación es: 0.23, entonces existe relación lineal entre ingresos y PP"
   ]
  },
  {
   "cell_type": "markdown",
   "metadata": {},
   "source": [
    "<h2> 1.3. Evaluamos la correlación entre ingresos y crédito vehicular </h2> "
   ]
  },
  {
   "cell_type": "code",
   "execution_count": 7,
   "metadata": {
    "scrolled": true
   },
   "outputs": [
    {
     "data": {
      "text/plain": [
       "SpearmanrResult(correlation=0.13802921449156647, pvalue=3.1622833302772646e-38)"
      ]
     },
     "execution_count": 7,
     "metadata": {},
     "output_type": "execute_result"
    }
   ],
   "source": [
    "stats.spearmanr(datos['INGRESO_BRUTO_FINAL'], datos['SALDO_VEH_SF_M1'])"
   ]
  },
  {
   "cell_type": "code",
   "execution_count": 8,
   "metadata": {},
   "outputs": [
    {
     "data": {
      "text/plain": [
       "<matplotlib.collections.PathCollection at 0x1a156df898>"
      ]
     },
     "execution_count": 8,
     "metadata": {},
     "output_type": "execute_result"
    },
    {
     "data": {
      "image/png": "[encoded data removed]",
      "text/plain": [
       "<matplotlib.figure.Figure at 0x1a156560f0>"
      ]
     },
     "metadata": {},
     "output_type": "display_data"
    }
   ],
   "source": [
    "#Graficamos\n",
    "plt.scatter(datos['INGRESO_BRUTO_FINAL'], datos['SALDO_VEH_SF_M1'], c='blue', s=15)"
   ]
  },
  {
   "cell_type": "markdown",
   "metadata": {},
   "source": [
    "Conclusión 1.3.: Como coeficiente de correlación es: 0.14, entonces existe relación lineal entre ingresos y CV"
   ]
  },
  {
   "cell_type": "markdown",
   "metadata": {},
   "source": [
    "<h2> 1.4. Evaluamos la correlación entre ingresos y crédito hipotecario </h2> "
   ]
  },
  {
   "cell_type": "code",
   "execution_count": 9,
   "metadata": {},
   "outputs": [
    {
     "data": {
      "text/plain": [
       "SpearmanrResult(correlation=0.22813069419634061, pvalue=5.520775424097317e-103)"
      ]
     },
     "execution_count": 9,
     "metadata": {},
     "output_type": "execute_result"
    }
   ],
   "source": [
    "stats.spearmanr(datos['INGRESO_BRUTO_FINAL'], datos['SALDO_HIP_SF_M1'])"
   ]
  },
  {
   "cell_type": "code",
   "execution_count": 10,
   "metadata": {},
   "outputs": [
    {
     "data": {
      "text/plain": [
       "<matplotlib.collections.PathCollection at 0x1a15833b38>"
      ]
     },
     "execution_count": 10,
     "metadata": {},
     "output_type": "execute_result"
    },
    {
     "data": {
      "image/png": "[encoded data removed]",
      "text/plain": [
       "<matplotlib.figure.Figure at 0x1a156f4630>"
      ]
     },
     "metadata": {},
     "output_type": "display_data"
    }
   ],
   "source": [
    "#Graficamos\n",
    "plt.scatter(datos['INGRESO_BRUTO_FINAL'], datos['SALDO_HIP_SF_M1'], c='blue', s=15)"
   ]
  },
  {
   "cell_type": "markdown",
   "metadata": {},
   "source": [
    "Conclusión 1.4.: Como coeficiente de correlación es: 0.23, entonces existe relación lineal entre ingresos y CH"
   ]
  },
  {
   "cell_type": "markdown",
   "metadata": {},
   "source": [
    "<h2> 1.5. Evaluamos la correlación entre ingresos y crédito por convenio </h2> "
   ]
  },
  {
   "cell_type": "code",
   "execution_count": 11,
   "metadata": {},
   "outputs": [
    {
     "data": {
      "text/plain": [
       "SpearmanrResult(correlation=0.10378664962112449, pvalue=3.0202834327276632e-22)"
      ]
     },
     "execution_count": 11,
     "metadata": {},
     "output_type": "execute_result"
    }
   ],
   "source": [
    "stats.spearmanr(datos['INGRESO_BRUTO_FINAL'], datos['SALDO_CONV_SF_M1'])"
   ]
  },
  {
   "cell_type": "code",
   "execution_count": 12,
   "metadata": {},
   "outputs": [
    {
     "data": {
      "text/plain": [
       "<matplotlib.collections.PathCollection at 0x1a158fe6a0>"
      ]
     },
     "execution_count": 12,
     "metadata": {},
     "output_type": "execute_result"
    },
    {
     "data": {
      "image/png": "[encoded data removed]",
      "text/plain": [
       "<matplotlib.figure.Figure at 0x1a15817630>"
      ]
     },
     "metadata": {},
     "output_type": "display_data"
    }
   ],
   "source": [
    "#Graficamos\n",
    "plt.scatter(datos['INGRESO_BRUTO_FINAL'], datos['SALDO_HIP_SF_M1'], c='blue', s=15)"
   ]
  },
  {
   "cell_type": "markdown",
   "metadata": {},
   "source": [
    "Conclusión 1.5.: Como coeficiente de correlación es: 0.10, entonces existe relación lineal entre ingresos y CC"
   ]
  },
  {
   "cell_type": "markdown",
   "metadata": {},
   "source": [
    "<h2> 1.6. Evaluamos la correlación entre ingresos y la deuda total </h2> "
   ]
  },
  {
   "cell_type": "code",
   "execution_count": 13,
   "metadata": {},
   "outputs": [
    {
     "name": "stderr",
     "output_type": "stream",
     "text": [
      "/anaconda3/lib/python3.6/site-packages/ipykernel_launcher.py:2: SettingWithCopyWarning: \n",
      "A value is trying to be set on a copy of a slice from a DataFrame.\n",
      "Try using .loc[row_indexer,col_indexer] = value instead\n",
      "\n",
      "See the caveats in the documentation: http://pandas.pydata.org/pandas-docs/stable/indexing.html#indexing-view-versus-copy\n",
      "  \n"
     ]
    }
   ],
   "source": [
    "#deuda total\n",
    "datos['DEUDA_TOTAL'] = datos['SALDO_TC_SF_M1'] + datos['SALDO_PP_SF_M1'] + datos['SALDO_VEH_SF_M1'] + datos['SALDO_HIP_SF_M1'] +datos['SALDO_CONV_SF_M1']\n",
    "#datos.describe()"
   ]
  },
  {
   "cell_type": "code",
   "execution_count": 14,
   "metadata": {},
   "outputs": [
    {
     "data": {
      "text/html": [
       "<div>\n",
       "<style>\n",
       "    .dataframe thead tr:only-child th {\n",
       "        text-align: right;\n",
       "    }\n",
       "\n",
       "    .dataframe thead th {\n",
       "        text-align: left;\n",
       "    }\n",
       "\n",
       "    .dataframe tbody tr th {\n",
       "        vertical-align: top;\n",
       "    }\n",
       "</style>\n",
       "<table border=\"1\" class=\"dataframe\">\n",
       "  <thead>\n",
       "    <tr style=\"text-align: right;\">\n",
       "      <th></th>\n",
       "      <th>INGRESO_BRUTO_FINAL</th>\n",
       "      <th>DEUDA_TOTAL</th>\n",
       "    </tr>\n",
       "  </thead>\n",
       "  <tbody>\n",
       "    <tr>\n",
       "      <th>1</th>\n",
       "      <td>1702.0</td>\n",
       "      <td>6009.59</td>\n",
       "    </tr>\n",
       "    <tr>\n",
       "      <th>2</th>\n",
       "      <td>1194.0</td>\n",
       "      <td>0.00</td>\n",
       "    </tr>\n",
       "    <tr>\n",
       "      <th>3</th>\n",
       "      <td>2157.0</td>\n",
       "      <td>7677.32</td>\n",
       "    </tr>\n",
       "    <tr>\n",
       "      <th>4</th>\n",
       "      <td>1626.0</td>\n",
       "      <td>1744.73</td>\n",
       "    </tr>\n",
       "    <tr>\n",
       "      <th>5</th>\n",
       "      <td>1516.0</td>\n",
       "      <td>0.00</td>\n",
       "    </tr>\n",
       "  </tbody>\n",
       "</table>\n",
       "</div>"
      ],
      "text/plain": [
       "   INGRESO_BRUTO_FINAL  DEUDA_TOTAL\n",
       "1               1702.0      6009.59\n",
       "2               1194.0         0.00\n",
       "3               2157.0      7677.32\n",
       "4               1626.0      1744.73\n",
       "5               1516.0         0.00"
      ]
     },
     "execution_count": 14,
     "metadata": {},
     "output_type": "execute_result"
    }
   ],
   "source": [
    "#datos a evaluar en la correlación\n",
    "datos_eval = datos[['INGRESO_BRUTO_FINAL','DEUDA_TOTAL']]\n",
    "datos_eval.head()"
   ]
  },
  {
   "cell_type": "code",
   "execution_count": 15,
   "metadata": {},
   "outputs": [
    {
     "data": {
      "text/plain": [
       "SpearmanrResult(correlation=0.51767541923387683, pvalue=0.0)"
      ]
     },
     "execution_count": 15,
     "metadata": {},
     "output_type": "execute_result"
    }
   ],
   "source": [
    "#Analizamos la correlación\n",
    "from scipy import stats\n",
    "stats.spearmanr(datos_eval['INGRESO_BRUTO_FINAL'], datos_eval['DEUDA_TOTAL'])"
   ]
  },
  {
   "cell_type": "markdown",
   "metadata": {},
   "source": [
    "<h3>Conclusión Final:</h3>  Como el coeficiente de correlación es: 0.52, entonces existe evidencia estadística para afirmar que hay relación lineal entre el ingreso bruto y deuda total y de lo anterior también concluir que existe relación lineal entre cada una de sus deudas e ingresos."
   ]
  },
  {
   "cell_type": "markdown",
   "metadata": {},
   "source": [
    "<h1>2. Relación entre la edad y su condición laboral</h1>"
   ]
  },
  {
   "cell_type": "code",
   "execution_count": 16,
   "metadata": {},
   "outputs": [
    {
     "data": {
      "text/html": [
       "<div>\n",
       "<style>\n",
       "    .dataframe thead tr:only-child th {\n",
       "        text-align: right;\n",
       "    }\n",
       "\n",
       "    .dataframe thead th {\n",
       "        text-align: left;\n",
       "    }\n",
       "\n",
       "    .dataframe tbody tr th {\n",
       "        vertical-align: top;\n",
       "    }\n",
       "</style>\n",
       "<table border=\"1\" class=\"dataframe\">\n",
       "  <thead>\n",
       "    <tr style=\"text-align: right;\">\n",
       "      <th></th>\n",
       "      <th>TIPO_CLIENTE</th>\n",
       "      <th>EDAD</th>\n",
       "    </tr>\n",
       "  </thead>\n",
       "  <tbody>\n",
       "    <tr>\n",
       "      <th>1</th>\n",
       "      <td>DEPENDIENTE</td>\n",
       "      <td>56</td>\n",
       "    </tr>\n",
       "    <tr>\n",
       "      <th>2</th>\n",
       "      <td>INDEPENDIENTE</td>\n",
       "      <td>41</td>\n",
       "    </tr>\n",
       "    <tr>\n",
       "      <th>3</th>\n",
       "      <td>DEPENDIENTE</td>\n",
       "      <td>56</td>\n",
       "    </tr>\n",
       "    <tr>\n",
       "      <th>4</th>\n",
       "      <td>INDEPENDIENTE</td>\n",
       "      <td>28</td>\n",
       "    </tr>\n",
       "    <tr>\n",
       "      <th>5</th>\n",
       "      <td>INDEPENDIENTE</td>\n",
       "      <td>48</td>\n",
       "    </tr>\n",
       "  </tbody>\n",
       "</table>\n",
       "</div>"
      ],
      "text/plain": [
       "    TIPO_CLIENTE  EDAD\n",
       "1    DEPENDIENTE    56\n",
       "2  INDEPENDIENTE    41\n",
       "3    DEPENDIENTE    56\n",
       "4  INDEPENDIENTE    28\n",
       "5  INDEPENDIENTE    48"
      ]
     },
     "execution_count": 16,
     "metadata": {},
     "output_type": "execute_result"
    }
   ],
   "source": [
    "#devolvemos solo los datos a evaluar\n",
    "datos_ed_cl = datos[['TIPO_CLIENTE','EDAD']]\n",
    "datos_ed_cl.head()"
   ]
  },
  {
   "cell_type": "code",
   "execution_count": 17,
   "metadata": {},
   "outputs": [
    {
     "data": {
      "text/plain": [
       "41.93896321070234"
      ]
     },
     "execution_count": 17,
     "metadata": {},
     "output_type": "execute_result"
    }
   ],
   "source": [
    "# Evaluamos la edad para los trabajadores independientes\n",
    "#filtramos solo personas independientes\n",
    "datos_indep = datos[datos['TIPO_CLIENTE']=='INDEPENDIENTE']\n",
    "stats.normaltest(datos_indep['EDAD'])\n",
    "datos_indep['EDAD'].mean()"
   ]
  },
  {
   "cell_type": "code",
   "execution_count": 18,
   "metadata": {},
   "outputs": [
    {
     "data": {
      "text/plain": [
       "42.136968766001026"
      ]
     },
     "execution_count": 18,
     "metadata": {},
     "output_type": "execute_result"
    }
   ],
   "source": [
    "# Evaluamos la edad para los trabajadores dependientes\n",
    "datos_dep = datos[datos['TIPO_CLIENTE']=='DEPENDIENTE']\n",
    "stats.normaltest(datos_dep['EDAD'])\n",
    "datos_dep['EDAD'].mean()"
   ]
  },
  {
   "cell_type": "code",
   "execution_count": 19,
   "metadata": {},
   "outputs": [
    {
     "name": "stdout",
     "output_type": "stream",
     "text": [
      "ttest_ind:            t = -0.685696  p = 0.492924\n"
     ]
    }
   ],
   "source": [
    "#aplicamos t-student para evaluar la relación \n",
    "#from: https://stackoverflow.com/a/22613361\n",
    "from scipy.stats import ttest_ind\n",
    "def ttest(a, b):\n",
    "    t, p = ttest_ind(a, b, equal_var=False)\n",
    "    return print(\"ttest_ind:            t = %g  p = %g\" % (t, p))\n",
    "\n",
    "ttest(datos_indep['EDAD'], datos_dep['EDAD'])"
   ]
  },
  {
   "cell_type": "markdown",
   "metadata": {},
   "source": [
    "<h2>Conclusión: </h2>\n",
    "NO existe relación entre la edad y la condición laboral debido a que p-valor es 0.5 y no podemos rechazar la hipótesis nula (medias de edad son iguales)"
   ]
  },
  {
   "cell_type": "markdown",
   "metadata": {},
   "source": [
    "<h1>3. Nivel de endeudamiento depende de su condición laboral</h1>"
   ]
  },
  {
   "cell_type": "code",
   "execution_count": 20,
   "metadata": {},
   "outputs": [
    {
     "data": {
      "text/html": [
       "<div>\n",
       "<style>\n",
       "    .dataframe thead tr:only-child th {\n",
       "        text-align: right;\n",
       "    }\n",
       "\n",
       "    .dataframe thead th {\n",
       "        text-align: left;\n",
       "    }\n",
       "\n",
       "    .dataframe tbody tr th {\n",
       "        vertical-align: top;\n",
       "    }\n",
       "</style>\n",
       "<table border=\"1\" class=\"dataframe\">\n",
       "  <thead>\n",
       "    <tr style=\"text-align: right;\">\n",
       "      <th></th>\n",
       "      <th>TIPO_CLIENTE</th>\n",
       "      <th>DEUDA_TOTAL</th>\n",
       "    </tr>\n",
       "  </thead>\n",
       "  <tbody>\n",
       "    <tr>\n",
       "      <th>1</th>\n",
       "      <td>DEPENDIENTE</td>\n",
       "      <td>6009.59</td>\n",
       "    </tr>\n",
       "    <tr>\n",
       "      <th>2</th>\n",
       "      <td>INDEPENDIENTE</td>\n",
       "      <td>0.00</td>\n",
       "    </tr>\n",
       "    <tr>\n",
       "      <th>3</th>\n",
       "      <td>DEPENDIENTE</td>\n",
       "      <td>7677.32</td>\n",
       "    </tr>\n",
       "    <tr>\n",
       "      <th>4</th>\n",
       "      <td>INDEPENDIENTE</td>\n",
       "      <td>1744.73</td>\n",
       "    </tr>\n",
       "    <tr>\n",
       "      <th>5</th>\n",
       "      <td>INDEPENDIENTE</td>\n",
       "      <td>0.00</td>\n",
       "    </tr>\n",
       "  </tbody>\n",
       "</table>\n",
       "</div>"
      ],
      "text/plain": [
       "    TIPO_CLIENTE  DEUDA_TOTAL\n",
       "1    DEPENDIENTE      6009.59\n",
       "2  INDEPENDIENTE         0.00\n",
       "3    DEPENDIENTE      7677.32\n",
       "4  INDEPENDIENTE      1744.73\n",
       "5  INDEPENDIENTE         0.00"
      ]
     },
     "execution_count": 20,
     "metadata": {},
     "output_type": "execute_result"
    }
   ],
   "source": [
    "#devolvemos solo los datos a evaluar\n",
    "datos_cl_de = datos[['TIPO_CLIENTE','DEUDA_TOTAL']]\n",
    "datos_cl_de.head()"
   ]
  },
  {
   "cell_type": "code",
   "execution_count": 21,
   "metadata": {},
   "outputs": [
    {
     "data": {
      "text/plain": [
       "11602.433563963223"
      ]
     },
     "execution_count": 21,
     "metadata": {},
     "output_type": "execute_result"
    }
   ],
   "source": [
    "# Evaluamos la DEUDA para los trabajadores independientes\n",
    "#filtramos solo personas independientes\n",
    "datos2_indep = datos[datos['TIPO_CLIENTE']=='INDEPENDIENTE']\n",
    "stats.normaltest(datos2_indep['DEUDA_TOTAL'])\n",
    "datos2_indep['DEUDA_TOTAL'].mean()"
   ]
  },
  {
   "cell_type": "code",
   "execution_count": 22,
   "metadata": {},
   "outputs": [
    {
     "data": {
      "text/plain": [
       "24384.5664900154"
      ]
     },
     "execution_count": 22,
     "metadata": {},
     "output_type": "execute_result"
    }
   ],
   "source": [
    "# Evaluamos la DEUDA para los trabajadores independientes\n",
    "#filtramos solo personas independientes\n",
    "datos2_dep = datos[datos['TIPO_CLIENTE']=='DEPENDIENTE']\n",
    "stats.normaltest(datos2_dep['DEUDA_TOTAL'])\n",
    "datos2_dep['DEUDA_TOTAL'].mean()"
   ]
  },
  {
   "cell_type": "code",
   "execution_count": 23,
   "metadata": {},
   "outputs": [
    {
     "name": "stdout",
     "output_type": "stream",
     "text": [
      "ttest_ind:            t = -7.9744  p = 1.80598e-15\n"
     ]
    }
   ],
   "source": [
    "#volvemos a aplicar t-test para evaluar la relación \n",
    "ttest(datos2_indep['DEUDA_TOTAL'], datos_dep['DEUDA_TOTAL'])"
   ]
  },
  {
   "cell_type": "markdown",
   "metadata": {},
   "source": [
    "<h2>Conclusión: </h2>\n",
    "Existe relación entre la deuda y la condición laboral debido a que p-valor es muy pequeño."
   ]
  },
  {
   "cell_type": "markdown",
   "metadata": {},
   "source": [
    "<h1>4. Peruanos con comportamiento atípico (outliers)</h1>"
   ]
  },
  {
   "cell_type": "code",
   "execution_count": 24,
   "metadata": {
    "collapsed": true
   },
   "outputs": [],
   "source": [
    "#definimos la función para analizar atípicos\n",
    "def outliers_iqr(ys):\n",
    "    quartile_1, quartile_3 = np.percentile(ys, [25, 75])\n",
    "    iqr = quartile_3 - quartile_1\n",
    "    lower_bound = quartile_1 - (iqr * 1.5)\n",
    "    upper_bound = quartile_3 + (iqr * 1.5)\n",
    "    return np.where((ys > upper_bound) | (ys < lower_bound))"
   ]
  },
  {
   "cell_type": "code",
   "execution_count": 25,
   "metadata": {},
   "outputs": [
    {
     "data": {
      "text/plain": [
       "(896, 11)"
      ]
     },
     "execution_count": 25,
     "metadata": {},
     "output_type": "execute_result"
    }
   ],
   "source": [
    "#analizamos los outliers por intercuantilicos \n",
    "outliers = outliers_iqr(datos['INGRESO_BRUTO_FINAL'])\n",
    "datos.iloc[outliers].shape"
   ]
  },
  {
   "cell_type": "code",
   "execution_count": 26,
   "metadata": {},
   "outputs": [
    {
     "data": {
      "text/plain": [
       "{'boxes': [<matplotlib.lines.Line2D at 0x1a15c0fba8>],\n",
       " 'caps': [<matplotlib.lines.Line2D at 0x1a15c19780>,\n",
       "  <matplotlib.lines.Line2D at 0x1a15c19ba8>],\n",
       " 'fliers': [<matplotlib.lines.Line2D at 0x1a15c24470>],\n",
       " 'means': [],\n",
       " 'medians': [<matplotlib.lines.Line2D at 0x1a15c19fd0>],\n",
       " 'whiskers': [<matplotlib.lines.Line2D at 0x1a15c0fdd8>,\n",
       "  <matplotlib.lines.Line2D at 0x1a15c19358>]}"
      ]
     },
     "execution_count": 26,
     "metadata": {},
     "output_type": "execute_result"
    },
    {
     "data": {
      "image/png": "[encoded data removed]",
      "text/plain": [
       "<matplotlib.figure.Figure at 0x1a157a4470>"
      ]
     },
     "metadata": {},
     "output_type": "display_data"
    }
   ],
   "source": [
    "plt.boxplot(datos['INGRESO_BRUTO_FINAL'])"
   ]
  },
  {
   "cell_type": "code",
   "execution_count": 27,
   "metadata": {},
   "outputs": [
    {
     "data": {
      "text/html": [
       "<div>\n",
       "<style>\n",
       "    .dataframe thead tr:only-child th {\n",
       "        text-align: right;\n",
       "    }\n",
       "\n",
       "    .dataframe thead th {\n",
       "        text-align: left;\n",
       "    }\n",
       "\n",
       "    .dataframe tbody tr th {\n",
       "        vertical-align: top;\n",
       "    }\n",
       "</style>\n",
       "<table border=\"1\" class=\"dataframe\">\n",
       "  <thead>\n",
       "    <tr style=\"text-align: right;\">\n",
       "      <th></th>\n",
       "      <th>IDENTIFICADOR</th>\n",
       "      <th>INGRESO_BRUTO_FINAL</th>\n",
       "      <th>EDAD</th>\n",
       "      <th>TIPO_CLIENTE</th>\n",
       "      <th>LINEA_TC_SF_M1</th>\n",
       "      <th>SALDO_TC_SF_M1</th>\n",
       "      <th>SALDO_PP_SF_M1</th>\n",
       "      <th>SALDO_VEH_SF_M1</th>\n",
       "      <th>SALDO_HIP_SF_M1</th>\n",
       "      <th>SALDO_CONV_SF_M1</th>\n",
       "      <th>DEUDA_TOTAL</th>\n",
       "    </tr>\n",
       "  </thead>\n",
       "  <tbody>\n",
       "    <tr>\n",
       "      <th>9</th>\n",
       "      <td>9171307</td>\n",
       "      <td>8689.0</td>\n",
       "      <td>54</td>\n",
       "      <td>INDEPENDIENTE</td>\n",
       "      <td>0.00</td>\n",
       "      <td>0.00</td>\n",
       "      <td>0.00</td>\n",
       "      <td>0.0</td>\n",
       "      <td>0.00</td>\n",
       "      <td>3765.81</td>\n",
       "      <td>3765.81</td>\n",
       "    </tr>\n",
       "    <tr>\n",
       "      <th>20</th>\n",
       "      <td>8954232</td>\n",
       "      <td>8906.0</td>\n",
       "      <td>53</td>\n",
       "      <td>INDEPENDIENTE</td>\n",
       "      <td>159952.80</td>\n",
       "      <td>87704.74</td>\n",
       "      <td>0.00</td>\n",
       "      <td>0.0</td>\n",
       "      <td>505673.84</td>\n",
       "      <td>0.00</td>\n",
       "      <td>593378.58</td>\n",
       "    </tr>\n",
       "    <tr>\n",
       "      <th>40</th>\n",
       "      <td>9233120</td>\n",
       "      <td>6000.0</td>\n",
       "      <td>57</td>\n",
       "      <td>INDEPENDIENTE</td>\n",
       "      <td>128751.00</td>\n",
       "      <td>38814.06</td>\n",
       "      <td>2482.19</td>\n",
       "      <td>0.0</td>\n",
       "      <td>0.00</td>\n",
       "      <td>0.00</td>\n",
       "      <td>41296.25</td>\n",
       "    </tr>\n",
       "    <tr>\n",
       "      <th>42</th>\n",
       "      <td>12534833</td>\n",
       "      <td>7088.0</td>\n",
       "      <td>33</td>\n",
       "      <td>INDEPENDIENTE</td>\n",
       "      <td>1145.47</td>\n",
       "      <td>0.00</td>\n",
       "      <td>0.00</td>\n",
       "      <td>0.0</td>\n",
       "      <td>0.00</td>\n",
       "      <td>0.00</td>\n",
       "      <td>0.00</td>\n",
       "    </tr>\n",
       "    <tr>\n",
       "      <th>67</th>\n",
       "      <td>9536060</td>\n",
       "      <td>7831.0</td>\n",
       "      <td>36</td>\n",
       "      <td>DEPENDIENTE</td>\n",
       "      <td>34466.16</td>\n",
       "      <td>12946.38</td>\n",
       "      <td>0.00</td>\n",
       "      <td>59565.0</td>\n",
       "      <td>0.00</td>\n",
       "      <td>0.00</td>\n",
       "      <td>72511.38</td>\n",
       "    </tr>\n",
       "  </tbody>\n",
       "</table>\n",
       "</div>"
      ],
      "text/plain": [
       "    IDENTIFICADOR  INGRESO_BRUTO_FINAL  EDAD   TIPO_CLIENTE  LINEA_TC_SF_M1  \\\n",
       "9         9171307               8689.0    54  INDEPENDIENTE            0.00   \n",
       "20        8954232               8906.0    53  INDEPENDIENTE       159952.80   \n",
       "40        9233120               6000.0    57  INDEPENDIENTE       128751.00   \n",
       "42       12534833               7088.0    33  INDEPENDIENTE         1145.47   \n",
       "67        9536060               7831.0    36    DEPENDIENTE        34466.16   \n",
       "\n",
       "    SALDO_TC_SF_M1  SALDO_PP_SF_M1  SALDO_VEH_SF_M1  SALDO_HIP_SF_M1  \\\n",
       "9             0.00            0.00              0.0             0.00   \n",
       "20        87704.74            0.00              0.0        505673.84   \n",
       "40        38814.06         2482.19              0.0             0.00   \n",
       "42            0.00            0.00              0.0             0.00   \n",
       "67        12946.38            0.00          59565.0             0.00   \n",
       "\n",
       "    SALDO_CONV_SF_M1  DEUDA_TOTAL  \n",
       "9            3765.81      3765.81  \n",
       "20              0.00    593378.58  \n",
       "40              0.00     41296.25  \n",
       "42              0.00         0.00  \n",
       "67              0.00     72511.38  "
      ]
     },
     "execution_count": 27,
     "metadata": {},
     "output_type": "execute_result"
    }
   ],
   "source": [
    "#mostrando los peruanos con comportamiento atípico\n",
    "datos.iloc[outliers].head()"
   ]
  },
  {
   "cell_type": "markdown",
   "metadata": {},
   "source": [
    "<h2>Conclusión: </h2>\n",
    "Existen 896 peruanos que se comportan de manera atípica.  "
   ]
  }
 ],
 "metadata": {
  "kernelspec": {
   "display_name": "Python 3",
   "language": "python",
   "name": "python3"
  },
  "language_info": {
   "codemirror_mode": {
    "name": "ipython",
    "version": 3
   },
   "file_extension": ".py",
   "mimetype": "text/x-python",
   "name": "python",
   "nbconvert_exporter": "python",
   "pygments_lexer": "ipython3",
   "version": "3.6.3"
  }
 },
 "nbformat": 4,
 "nbformat_minor": 2
}
